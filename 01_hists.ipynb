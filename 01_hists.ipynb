{
 "cells": [
  {
   "cell_type": "code",
   "execution_count": null,
   "metadata": {},
   "outputs": [],
   "source": [
    "# default_exp hists"
   ]
  },
  {
   "cell_type": "markdown",
   "metadata": {},
   "source": [
    "# fullstream.hists\n",
    "\n",
    "> Module for creating histograms based off of the output of neural net classifiers."
   ]
  },
  {
   "cell_type": "code",
   "execution_count": null,
   "metadata": {},
   "outputs": [],
   "source": [
    "# export\n",
    "import pyhf\n",
    "\n",
    "pyhf.set_backend(pyhf.tensor.jax_backend())\n",
    "\n",
    "import jax"
   ]
  },
  {
   "cell_type": "code",
   "execution_count": null,
   "metadata": {},
   "outputs": [],
   "source": [
    "# export\n",
    "def hists_from_nn(nn, params, sig, bkg, scale=True, scale_factors=[0.02, 0.1]):\n",
    "    \"\"\"Create nn-based binned summary statistics from signal and background events. \n",
    "    nn should be the 'predict', 'fit' etc. method that's callable on arguments (nn_params,data). Assumes logsoftmax output.\n",
    "    \"\"\"\n",
    "\n",
    "    # set some arbitrary scale factors\n",
    "    # todo change\n",
    "    sig_sf = scale_factors[0] if scale else 1\n",
    "    bkg_sf = scale_factors[1] if scale else 1\n",
    "\n",
    "    sighist = jax.numpy.sum(jax.numpy.exp(nn(params, sig)), axis=0) * sig_sf\n",
    "    bkghist = jax.numpy.sum(jax.numpy.exp(nn(params, bkg)), axis=0) * bkg_sf\n",
    "\n",
    "    return sighist, bkghist"
   ]
  },
  {
   "cell_type": "code",
   "execution_count": null,
   "metadata": {},
   "outputs": [
    {
     "name": "stderr",
     "output_type": "stream",
     "text": [
      "/home/phinate/envs/fullstream/lib/python3.7/site-packages/jax-0.1.58-py3.7.egg/jax/lib/xla_bridge.py:119: UserWarning: No GPU/TPU found, falling back to CPU.\n"
     ]
    },
    {
     "name": "stdout",
     "output_type": "stream",
     "text": [
      "\n",
      "Starting training...\n",
      "Epoch 0 in 3.17 sec\n",
      "Training set accuracy 0.87475\n"
     ]
    },
    {
     "data": {
      "image/png": "[encoded data removed]",
      "text/plain": [
       "<Figure size 432x288 with 1 Axes>"
      ]
     },
     "metadata": {
      "needs_background": "light"
     },
     "output_type": "display_data"
    }
   ],
   "source": [
    "from fullstream.nn import simple_classifier\n",
    "\n",
    "x = simple_classifier(dist=3)\n",
    "_ = x.train(num_epochs=1)\n",
    "nn_params = x.params"
   ]
  },
  {
   "cell_type": "code",
   "execution_count": null,
   "metadata": {},
   "outputs": [],
   "source": [
    "from fullstream.data import get_three_blobs\n",
    "\n",
    "sig, bkg, _ = get_three_blobs(num_points=1000)\n",
    "sighist, bkghist = hists_from_nn(x.predict, nn_params, sig, bkg)"
   ]
  },
  {
   "cell_type": "code",
   "execution_count": null,
   "metadata": {},
   "outputs": [
    {
     "data": {
      "text/plain": [
       "<matplotlib.legend.Legend at 0x7fa170595910>"
      ]
     },
     "execution_count": null,
     "metadata": {},
     "output_type": "execute_result"
    },
    {
     "data": {
      "image/png": "[encoded data removed]",
      "text/plain": [
       "<Figure size 432x288 with 1 Axes>"
      ]
     },
     "metadata": {
      "needs_background": "light"
     },
     "output_type": "display_data"
    }
   ],
   "source": [
    "import matplotlib.pyplot as plt\n",
    "\n",
    "plt.bar(\n",
    "    [\"nn_thinks_its_background\", \"nn_thinks_its_signal\"],\n",
    "    bkghist,\n",
    "    label=\"background data\",\n",
    ")\n",
    "plt.bar(\n",
    "    [\"nn_thinks_its_background\", \"nn_thinks_its_signal\"],\n",
    "    sighist,\n",
    "    bottom=bkghist,\n",
    "    label=\"signal data\",\n",
    ")\n",
    "plt.legend()"
   ]
  },
  {
   "cell_type": "code",
   "execution_count": null,
   "metadata": {},
   "outputs": [],
   "source": [
    "# export\n",
    "def hists_from_nn_bkg_var(\n",
    "    nn, params, sig, bkg, scale=True, use_jax=True, scale_factors=[0.02, 0.1]\n",
    "):\n",
    "    \"\"\"Create nn-based binned summary statistics from signal and background events, with the background histograms containing multiple variations.\n",
    "    The std of these variations is then the uncertainty.\n",
    "    \n",
    "    nn should be the 'predict', 'fit' etc. method that's callable on arguments (nn_params,data). Assumes logsoftmax output.\n",
    "    \n",
    "    bkg: array-like, containing len(bkg) modes of the background.\n",
    "    --> bkg_hist = mean()\n",
    "    \n",
    "    \"\"\"\n",
    "\n",
    "    assert (\n",
    "        len(bkg.shape) == 3\n",
    "    ), f\"Shape error: bkg is of dim {len(bkg.shape)}, but bkg should be dim 3 with shape (num_variations, num_samples, num_nn_output_nodes)\"\n",
    "\n",
    "    # set some arbitrary scale factors\n",
    "    # todo change\n",
    "    sig_sf = scale_factors[0] if scale else 1\n",
    "    bkg_sf = scale_factors[1] if scale else 1\n",
    "\n",
    "    bkg_variations = jax.numpy.asarray(\n",
    "        [jax.numpy.sum(jax.numpy.exp(nn(params, b)), axis=0) * bkg_sf for b in bkg]\n",
    "    )\n",
    "\n",
    "    sighist = jax.numpy.sum(jax.numpy.exp(nn(params, sig)), axis=0) * sig_sf\n",
    "    bkghist = jax.numpy.mean(bkg_variations, axis=0)\n",
    "    bkguncert = jax.numpy.std(bkg_variations, axis=0)\n",
    "\n",
    "    return sighist, bkghist, bkguncert"
   ]
  },
  {
   "cell_type": "code",
   "execution_count": null,
   "metadata": {},
   "outputs": [
    {
     "name": "stdout",
     "output_type": "stream",
     "text": [
      "\n",
      "Starting training...\n",
      "Epoch 0 in 3.22 sec\n",
      "Training set accuracy 0.8476\n"
     ]
    },
    {
     "data": {
      "image/png": "[encoded data removed]",
      "text/plain": [
       "<Figure size 432x288 with 1 Axes>"
      ]
     },
     "metadata": {
      "needs_background": "light"
     },
     "output_type": "display_data"
    }
   ],
   "source": [
    "from fullstream.nn import three_blob_classifier\n",
    "\n",
    "x = three_blob_classifier()\n",
    "_ = x.train(num_epochs=1)\n",
    "nn_params = x.params"
   ]
  },
  {
   "cell_type": "code",
   "execution_count": null,
   "metadata": {},
   "outputs": [],
   "source": [
    "sig, bkg1, bkg2 = get_three_blobs()\n",
    "\n",
    "bkg_vars = jax.numpy.asarray([bkg1, bkg2])\n",
    "\n",
    "sighist, bkghist, bkguncert = hists_from_nn_bkg_var(x.predict, nn_params, sig, bkg_vars)"
   ]
  },
  {
   "cell_type": "code",
   "execution_count": null,
   "metadata": {},
   "outputs": [
    {
     "data": {
      "text/plain": [
       "<matplotlib.legend.Legend at 0x7fa17039af10>"
      ]
     },
     "execution_count": null,
     "metadata": {},
     "output_type": "execute_result"
    },
    {
     "data": {
      "image/png": "[encoded data removed]",
      "text/plain": [
       "<Figure size 432x288 with 1 Axes>"
      ]
     },
     "metadata": {
      "needs_background": "light"
     },
     "output_type": "display_data"
    }
   ],
   "source": [
    "plt.bar(\n",
    "    [\"nn_thinks_its_background\", \"nn_thinks_its_signal\"],\n",
    "    bkghist,\n",
    "    label=\"background data\",\n",
    "    yerr=bkguncert,\n",
    ")\n",
    "plt.bar(\n",
    "    [\"nn_thinks_its_background\", \"nn_thinks_its_signal\"],\n",
    "    sighist,\n",
    "    bottom=bkghist,\n",
    "    label=\"signal data\",\n",
    ")\n",
    "plt.legend()"
   ]
  },
  {
   "cell_type": "code",
   "execution_count": null,
   "metadata": {},
   "outputs": [],
   "source": [
    "# export\n",
    "def simple_nn_logpdf(nn_pars, nn, pars, data, sig_data, bkg_data, bkg_uncerts):\n",
    "    \"\"\"Return pyhf.Model.logpdf for a simple two-bin model, containing a signal and background histogram created using hists_from_nn. Mostly for demo purposes.\"\"\"\n",
    "    tensorlib, _ = pyhf.get_backend()\n",
    "\n",
    "    sig_hist, bkg_hist = hists_from_nn(nn, nn_pars, sig_data, bkg_data)\n",
    "\n",
    "    spec = {\n",
    "        \"channels\": [\n",
    "            {\n",
    "                \"name\": \"singlechannel\",\n",
    "                \"samples\": [\n",
    "                    {\n",
    "                        \"name\": \"signal\",\n",
    "                        \"data\": sig_hist,\n",
    "                        \"modifiers\": [\n",
    "                            {\"name\": \"mu\", \"type\": \"normfactor\", \"data\": None}\n",
    "                        ],\n",
    "                    },\n",
    "                    {\n",
    "                        \"name\": \"background\",\n",
    "                        \"data\": bkg_hist,\n",
    "                        \"modifiers\": [\n",
    "                            {\n",
    "                                \"name\": \"uncorr_bkguncrt\",\n",
    "                                \"type\": \"shapesys\",\n",
    "                                \"data\": bkg_hist,\n",
    "                            }\n",
    "                        ],\n",
    "                    },\n",
    "                ],\n",
    "            }\n",
    "        ]\n",
    "    }\n",
    "    model = pyhf.Model(spec)\n",
    "\n",
    "    data += model.config.auxdata\n",
    "    data = tensorlib.astensor(data)\n",
    "    pars = tensorlib.astensor(pars)\n",
    "\n",
    "    # grad only defined for scalar output functions, not [scalar]\n",
    "    return model.logpdf(pars, data)[0]"
   ]
  },
  {
   "cell_type": "code",
   "execution_count": null,
   "metadata": {},
   "outputs": [
    {
     "data": {
      "text/plain": [
       "(DeviceArray(-300.32010586, dtype=float64),\n",
       " [(DeviceArray([[-4.6235928e-04, -5.6928642e+01,  1.0801580e+00,\n",
       "                  4.3102951e+01, -1.3496366e+01],\n",
       "                [ 1.0061818e-02, -9.7452606e+01,  1.8475350e+00,\n",
       "                  7.3784592e+01, -2.3103380e+01]], dtype=float32),\n",
       "   DeviceArray([ 2.0602194e-03, -1.7377464e+01,  3.2941496e-01,\n",
       "                 1.3157135e+01, -4.1197529e+00], dtype=float32)),\n",
       "  (),\n",
       "  (DeviceArray([[ 1.9941838e-04, -1.9941838e-04],\n",
       "                [ 1.5413854e+01, -1.5413854e+01],\n",
       "                [ 2.9460168e+00, -2.9460168e+00],\n",
       "                [ 4.4130726e+01, -4.4130726e+01],\n",
       "                [ 3.2087624e+01, -3.2087624e+01]], dtype=float32),\n",
       "   DeviceArray([ 10.69018, -10.69018], dtype=float32)),\n",
       "  ()])"
      ]
     },
     "execution_count": null,
     "metadata": {},
     "output_type": "execute_result"
    }
   ],
   "source": [
    "# with jax\n",
    "jax.value_and_grad(simple_nn_logpdf)(\n",
    "    x.params,\n",
    "    nn=x.predict,\n",
    "    pars=[1.0, 1.0, 1.0],\n",
    "    data=[100.0, 20.0],\n",
    "    sig_data=sig,\n",
    "    bkg_data=bkg1,\n",
    "    bkg_uncerts=[7, 7],\n",
    ")"
   ]
  },
  {
   "cell_type": "code",
   "execution_count": null,
   "metadata": {},
   "outputs": [],
   "source": []
  },
  {
   "cell_type": "code",
   "execution_count": null,
   "metadata": {},
   "outputs": [],
   "source": []
  }
 ],
 "metadata": {
  "kernelspec": {
   "display_name": "Python 3",
   "language": "python",
   "name": "python3"
  }
 },
 "nbformat": 4,
 "nbformat_minor": 4
}
