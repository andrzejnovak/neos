{
 "cells": [
  {
   "cell_type": "code",
   "execution_count": null,
   "metadata": {},
   "outputs": [],
   "source": [
    "# default_exp makers"
   ]
  },
  {
   "cell_type": "code",
   "execution_count": null,
   "metadata": {},
   "outputs": [],
   "source": [
    "#export\n",
    "import jax\n",
    "import numpy as np\n",
    "\n",
    "from neos import models"
   ]
  },
  {
   "cell_type": "code",
   "execution_count": null,
   "metadata": {},
   "outputs": [],
   "source": [
    "#export\n",
    "def hists_from_nn_three_blobs(predict, NMC = 500, sig_mean = [-1, 1], b1_mean=[2, 2], b2_mean=[-1, -1], LUMI=10, sig_scale = 2, bkg_scale = 10):\n",
    "\n",
    "    def get_hists(network, s, b1, b2):\n",
    "        NMC = len(s)\n",
    "        sh, bh1, bh2 = (\n",
    "            predict(network, s).sum(axis=0) * sig_scale / NMC * LUMI,\n",
    "            predict(network, b1).sum(axis=0) * bkg_scale / NMC * LUMI,\n",
    "            predict(network, b2).sum(axis=0) * bkg_scale / NMC * LUMI,\n",
    "        )\n",
    "        b_mean = jax.numpy.mean(jax.numpy.asarray([bh1, bh2]), axis=0)\n",
    "        b_unc = jax.numpy.std(jax.numpy.asarray([bh1, bh2]), axis=0)\n",
    "        results = sh, b_mean, b_unc\n",
    "        return results\n",
    "\n",
    "\n",
    "    def hist_maker():\n",
    "        bkg1 = np.random.multivariate_normal(b1_mean, [[1, 0], [0, 1]], size=(NMC,))\n",
    "        bkg2 = np.random.multivariate_normal(b2_mean, [[1, 0], [0, 1]], size=(NMC,))\n",
    "        sig = np.random.multivariate_normal(sig_mean, [[1, 0], [0, 1]], size=(NMC,))\n",
    "\n",
    "        def make(network):\n",
    "            return get_hists(network, sig, bkg1, bkg2)\n",
    "\n",
    "        make.bkg1 = bkg1\n",
    "        make.bkg2 = bkg2\n",
    "        make.sig = sig\n",
    "        return make\n",
    "    \n",
    "    return hist_maker"
   ]
  },
  {
   "cell_type": "code",
   "execution_count": null,
   "metadata": {},
   "outputs": [],
   "source": [
    "#export\n",
    "def nn_hepdata_like(histogram_maker):\n",
    "    hm = histogram_maker()\n",
    "\n",
    "    def nn_model_maker(network):\n",
    "        s, b, db = hm(network)\n",
    "        m = models.hepdata_like(s, b, db)\n",
    "        nompars = m.config.suggested_init\n",
    "        bonlypars = jax.numpy.asarray([x for x in nompars])\n",
    "        bonlypars = jax.ops.index_update(bonlypars, m.config.poi_index, 0.0)\n",
    "        return m, bonlypars\n",
    "\n",
    "    nn_model_maker.hm = hm\n",
    "    return nn_model_maker"
   ]
  }
 ],
 "metadata": {
  "kernelspec": {
   "display_name": "Python 3",
   "language": "python",
   "name": "python3"
  }
 },
 "nbformat": 4,
 "nbformat_minor": 4
}
