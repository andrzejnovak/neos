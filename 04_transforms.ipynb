{
 "cells": [
  {
   "cell_type": "code",
   "execution_count": null,
   "metadata": {},
   "outputs": [],
   "source": [
    "# default_exp transforms"
   ]
  },
  {
   "cell_type": "markdown",
   "metadata": {},
   "source": [
    "# fullstream.transforms\n",
    "\n",
    "> Contains minuit transforms to map from $[-\\infty,\\infty]$ to a bounded space $[a,b]$ and back."
   ]
  },
  {
   "cell_type": "code",
   "execution_count": null,
   "metadata": {},
   "outputs": [],
   "source": [
    "# export\n",
    "import jax"
   ]
  },
  {
   "cell_type": "code",
   "execution_count": null,
   "metadata": {},
   "outputs": [],
   "source": [
    "# export\n",
    "# [-inf, inf] -> [a,b] (vectors)\n",
    "def to_bounded_vec(param, bounds):\n",
    "    a, b = bounds[:, 0], bounds[:, 1]\n",
    "    return a + (b - a) * 0.5 * (jax.numpy.sin(param) + 1.0)\n",
    "\n",
    "\n",
    "# [-inf, inf] -> [a,b]\n",
    "def to_bounded(param, bounds):\n",
    "    a, b = bounds\n",
    "    return a + (b - a) * 0.5 * (jax.numpy.sin(param) + 1.0)\n",
    "\n",
    "\n",
    "# [-inf, inf] <- [a,b] (vectors)\n",
    "def to_inf_vec(param, bounds):\n",
    "    a, b = bounds[:, 0], bounds[:, 1]\n",
    "    x = (2.0 * param - a) / (b - a) - 1.0\n",
    "    return jax.numpy.arcsin(x)\n",
    "\n",
    "\n",
    "# [-inf, inf] <- [a,b]\n",
    "def to_inf(param, bounds):\n",
    "    a, b = bounds\n",
    "    # print(f\"a,b: {a,b}\")\n",
    "    x = (2.0 * param - a) / (b - a) - 1.0\n",
    "    return jax.numpy.arcsin(x)"
   ]
  },
  {
   "cell_type": "code",
   "execution_count": null,
   "metadata": {},
   "outputs": [],
   "source": [
    "p = jax.numpy.asarray([1.0, 1.0])\n",
    "b = jax.numpy.asarray([jax.numpy.asarray([0.0, 10.0]), jax.numpy.asarray([0.0, 10.0])])\n",
    "\n",
    "# check if 1 is invariant\n",
    "cond = to_inf(to_bounded(p[0], b[0]), b[0])-p[0]\n",
    "assert not cond\n",
    "\n",
    "# check if [1,1] is invariant\n",
    "cond = (to_inf_vec(to_bounded_vec(p, b), b)-p).any()\n",
    "assert not cond"
   ]
  },
  {
   "cell_type": "code",
   "execution_count": null,
   "metadata": {},
   "outputs": [],
   "source": []
  }
 ],
 "metadata": {
  "kernelspec": {
   "display_name": "Python 3",
   "language": "python",
   "name": "python3"
  }
 },
 "nbformat": 4,
 "nbformat_minor": 4
}
