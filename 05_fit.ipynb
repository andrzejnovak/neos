{
 "cells": [
  {
   "cell_type": "code",
   "execution_count": null,
   "metadata": {},
   "outputs": [],
   "source": [
    "# default_exp fit"
   ]
  },
  {
   "cell_type": "markdown",
   "metadata": {},
   "source": [
    "# fullstream.fit\n",
    "\n",
    "> Module that wraps constrained + global fitters in a differentiable form using the module fax. Uses the two-phase-solver."
   ]
  },
  {
   "cell_type": "code",
   "execution_count": null,
   "metadata": {},
   "outputs": [],
   "source": [
    "# export\n",
    "import jax\n",
    "from fax.implicit import twophase\n",
    "\n",
    "from fullstream.transforms import *"
   ]
  },
  {
   "cell_type": "code",
   "execution_count": null,
   "metadata": {},
   "outputs": [],
   "source": [
    "# export\n",
    "def get_solvers(\n",
    "    model_constructor,\n",
    "    pdf_transform=False,\n",
    "    default_rtol=1e-10,\n",
    "    default_atol=1e-10,\n",
    "    default_max_iter=1000000,\n",
    "):\n",
    "    def make_model(hyper_pars):\n",
    "        constrained_mu, nn_pars = hyper_pars[0], hyper_pars[1]\n",
    "        m, bonlypars = model_constructor(nn_pars)\n",
    "\n",
    "        bounds = m.config.suggested_bounds()\n",
    "\n",
    "        exp_bonly_data = m.expected_data(bonlypars, include_auxdata=True) + 0.2\n",
    "\n",
    "        def expected_logpdf(pars):  # maps pars to bounded space if pdf_transform = True\n",
    "\n",
    "            return (\n",
    "                m.logpdf(transform_lim_vec(pars, bounds), exp_bonly_data)\n",
    "                if pdf_transform\n",
    "                else m.logpdf(pars, exp_bonly_data)\n",
    "            )\n",
    "\n",
    "        def global_fit_objective(pars):  # NLL\n",
    "            return -expected_logpdf(pars)[0]\n",
    "\n",
    "        def constrained_fit_objective(nuis_par):  # NLL\n",
    "            pars = jax.numpy.concatenate(\n",
    "                [jax.numpy.asarray([constrained_mu]), nuis_par]\n",
    "            )\n",
    "            return -expected_logpdf(pars)[0]\n",
    "\n",
    "        return constrained_mu, global_fit_objective, constrained_fit_objective\n",
    "\n",
    "    def global_bestfit_minimized(hyper_param):\n",
    "        _, nll, _ = make_model(hyper_param)\n",
    "\n",
    "        def bestfit_via_grad_descent(i, param):  # gradient descent\n",
    "            param = param - jax.grad(nll)(param) * 0.01\n",
    "            return param\n",
    "\n",
    "        return bestfit_via_grad_descent\n",
    "\n",
    "    def constrained_bestfit_minimized(hyper_param):\n",
    "        mu, nll, cnll = make_model(hyper_param)\n",
    "\n",
    "        def bestfit_via_grad_descent(i, param):  # gradient descent\n",
    "            _, np = param[0], param[1:]\n",
    "            np = np - jax.grad(cnll)(np) * 0.01\n",
    "            param = jax.numpy.concatenate([jax.numpy.asarray([mu]), np])\n",
    "            return param\n",
    "\n",
    "        return bestfit_via_grad_descent\n",
    "\n",
    "    global_solve = twophase.two_phase_solver(\n",
    "        param_func=global_bestfit_minimized,\n",
    "        default_rtol=default_rtol,\n",
    "        default_atol=default_atol,\n",
    "        default_max_iter=default_max_iter,\n",
    "    )\n",
    "    constrained_solver = twophase.two_phase_solver(\n",
    "        param_func=constrained_bestfit_minimized,\n",
    "        default_rtol=default_rtol,\n",
    "        default_atol=default_atol,\n",
    "        default_max_iter=default_max_iter,\n",
    "    )\n",
    "\n",
    "    def g_fitter(init, hyper_pars):\n",
    "        return global_solve(init, hyper_pars).value\n",
    "\n",
    "    def c_fitter(init, hyper_pars):\n",
    "        return constrained_solver(init, hyper_pars).value\n",
    "\n",
    "    return g_fitter, c_fitter"
   ]
  },
  {
   "cell_type": "markdown",
   "metadata": {},
   "source": [
    "#### getting test"
   ]
  },
  {
   "cell_type": "code",
   "execution_count": null,
   "metadata": {},
   "outputs": [],
   "source": [
    "from fullstream.models import nn_model_maker\n",
    "\n",
    "g_fitter, c_fitter = get_solvers(nn_model_maker)"
   ]
  },
  {
   "cell_type": "markdown",
   "metadata": {},
   "source": [
    "#### non-transformed fit test"
   ]
  },
  {
   "cell_type": "code",
   "execution_count": null,
   "metadata": {},
   "outputs": [
    {
     "name": "stdout",
     "output_type": "stream",
     "text": [
      "\n",
      "Starting training...\n",
      "Epoch 0 in 2.74 sec\n",
      "Training set accuracy 0.8476\n",
      "model: [ 6.40477037 13.59522963],[43.13707402  6.86292598],[4.44113382 4.44113382]\n",
      "model: Traced<ShapedArray(float64[2]):JaxprTrace(level=0/0)>,Traced<ShapedArray(float64[2]):JaxprTrace(level=0/0)>,Traced<ShapedArray(float64[2]):JaxprTrace(level=0/0)>\n",
      "model: Traced<ShapedArray(float64[2]):JaxprTrace(level=0/0)>,Traced<ShapedArray(float64[2]):JaxprTrace(level=0/0)>,Traced<ShapedArray(float64[2]):JaxprTrace(level=0/0)>\n",
      "constrained fit: [1.         0.96071416]\n",
      "global fit: [0.01694888 1.0021199 ]\n"
     ]
    },
    {
     "data": {
      "image/png": "[encoded data removed]",
      "text/plain": [
       "<Figure size 432x288 with 1 Axes>"
      ]
     },
     "metadata": {
      "needs_background": "light"
     },
     "output_type": "display_data"
    }
   ],
   "source": [
    "from fullstream.nn import three_blob_classifier\n",
    "\n",
    "x = three_blob_classifier()\n",
    "_ = x.train(num_epochs=1)\n",
    "nn_params = x.params\n",
    "\n",
    "g_fitter, c_fitter = get_solvers(nn_model_maker, pdf_transform=False)\n",
    "\n",
    "m, bonlypars = nn_model_maker(nn_params)\n",
    "exp_data = m.expected_data(bonlypars)\n",
    "bounds = m.config.suggested_bounds()\n",
    "\n",
    "test_mu = 1.0\n",
    "\n",
    "# map these\n",
    "initval = jax.numpy.asarray([test_mu, 1.0])\n",
    "# the constrained fit\n",
    "numerator = c_fitter(initval, [test_mu, nn_params])\n",
    "# the global fit\n",
    "denominator = g_fitter(initval, [test_mu, nn_params])\n",
    "\n",
    "print(f\"constrained fit: {numerator}\")\n",
    "print(f\"global fit: {denominator}\")\n",
    "\n",
    "#print(f\"transformed constrained fit: {transform_lim_vec(numerator,bounds)}\")\n",
    "#print(f\"transformed global fit: {transform_lim_vec(denominator,bounds)}\")"
   ]
  },
  {
   "cell_type": "markdown",
   "metadata": {},
   "source": [
    "#### transformed fit test"
   ]
  },
  {
   "cell_type": "code",
   "execution_count": null,
   "metadata": {},
   "outputs": [
    {
     "name": "stdout",
     "output_type": "stream",
     "text": [
      "model: [ 6.40477037 13.59522963],[43.13707402  6.86292598],[4.44113382 4.44113382]\n",
      "model: Traced<ShapedArray(float64[2]):JaxprTrace(level=0/0)>,Traced<ShapedArray(float64[2]):JaxprTrace(level=0/0)>,Traced<ShapedArray(float64[2]):JaxprTrace(level=0/0)>\n",
      "model: Traced<ShapedArray(float64[2]):JaxprTrace(level=0/0)>,Traced<ShapedArray(float64[2]):JaxprTrace(level=0/0)>,Traced<ShapedArray(float64[2]):JaxprTrace(level=0/0)>\n",
      "constrained fit: [ 1. 10.]\n",
      "global fit: [0.         0.59398947]\n"
     ]
    }
   ],
   "source": [
    "g_fitter, c_fitter = get_solvers(nn_model_maker, pdf_transform=True)\n",
    "\n",
    "m, bonlypars = nn_model_maker(nn_params)\n",
    "exp_data = m.expected_data(bonlypars)\n",
    "bounds = m.config.suggested_bounds()\n",
    "\n",
    "test_mu = 1.0\n",
    "\n",
    "initval = jax.numpy.asarray([test_mu, 1.0])\n",
    "\n",
    "# transform everything to inf space\n",
    "initval = inv_transform_lim_vec(initval, bounds)\n",
    "init_test_mu = inv_transform_lim(test_mu, bounds[0])\n",
    "\n",
    "# do fits, then transform answers to bounded space\n",
    "numerator = transform_lim_vec(c_fitter(initval, [init_test_mu, nn_params]), bounds)\n",
    "denominator = transform_lim_vec(g_fitter(initval, [init_test_mu, nn_params]), bounds)\n",
    "\n",
    "print(f\"constrained fit: {numerator}\")\n",
    "print(f\"global fit: {denominator}\")"
   ]
  },
  {
   "cell_type": "code",
   "execution_count": null,
   "metadata": {},
   "outputs": [],
   "source": []
  }
 ],
 "metadata": {
  "kernelspec": {
   "display_name": "Python 3",
   "language": "python",
   "name": "python3"
  }
 },
 "nbformat": 4,
 "nbformat_minor": 4
}
