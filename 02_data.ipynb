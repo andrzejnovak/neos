{
 "cells": [
  {
   "cell_type": "code",
   "execution_count": null,
   "metadata": {},
   "outputs": [],
   "source": [
    "# default_exp data"
   ]
  },
  {
   "cell_type": "markdown",
   "metadata": {},
   "source": [
    "# fullstream.data\n",
    "\n",
    "> Data-grabbing module for convenience purposes."
   ]
  },
  {
   "cell_type": "code",
   "execution_count": null,
   "metadata": {},
   "outputs": [],
   "source": [
    "#export\n",
    "import jax"
   ]
  },
  {
   "cell_type": "code",
   "execution_count": null,
   "metadata": {},
   "outputs": [],
   "source": [
    "#export\n",
    "def get_three_blobs(keys=[1, 2, 3],num_points=5000):\n",
    "    k1, k2, k3 = keys\n",
    "    sig = jax.random.multivariate_normal(\n",
    "        jax.random.PRNGKey(k1),\n",
    "        jax.numpy.asarray([2, 5]),\n",
    "        jax.numpy.asarray([[1, 0.0], [0.0, 1]]),\n",
    "        shape=(1, num_points),\n",
    "    )[0]\n",
    "    bkg1 = jax.random.multivariate_normal(\n",
    "        jax.random.PRNGKey(k2),\n",
    "        jax.numpy.asarray([4, 6]),\n",
    "        jax.numpy.asarray([[1, 0.6], [0.6, 1]]),\n",
    "        shape=(1, num_points),\n",
    "    )[0]\n",
    "    bkg2 = jax.random.multivariate_normal(\n",
    "        jax.random.PRNGKey(k3),\n",
    "        jax.numpy.asarray([5.5, 4.5]),\n",
    "        jax.numpy.asarray([[1.7, 0.2], [0.2, 1]]),\n",
    "        shape=(1, num_points),\n",
    "    )[0]\n",
    "    return sig, bkg1, bkg2"
   ]
  },
  {
   "cell_type": "code",
   "execution_count": null,
   "metadata": {},
   "outputs": [
    {
     "name": "stderr",
     "output_type": "stream",
     "text": [
      "/home/phinate/envs/fullstream/lib/python3.7/site-packages/jax-0.1.58-py3.7.egg/jax/lib/xla_bridge.py:119: UserWarning: No GPU/TPU found, falling back to CPU.\n"
     ]
    },
    {
     "data": {
      "text/plain": [
       "(DeviceArray([[1.0140822 , 3.9933395 ],\n",
       "              [1.7786291 , 3.6547594 ],\n",
       "              [2.7427552 , 2.859375  ],\n",
       "              [1.3404367 , 4.933917  ],\n",
       "              [1.7891407 , 4.6465187 ],\n",
       "              [0.58730876, 3.0566201 ],\n",
       "              [3.6297982 , 5.240932  ],\n",
       "              [0.23836362, 4.2867765 ],\n",
       "              [2.8603325 , 4.808022  ],\n",
       "              [2.5360398 , 4.480732  ]], dtype=float32),\n",
       " DeviceArray([[5.028805 , 7.892764 ],\n",
       "              [0.8853359, 4.4692073],\n",
       "              [4.030621 , 5.4007072],\n",
       "              [3.758674 , 5.3837028],\n",
       "              [2.008297 , 5.524648 ],\n",
       "              [3.2231266, 5.1466904],\n",
       "              [3.0465481, 4.915827 ],\n",
       "              [3.473128 , 6.3745284],\n",
       "              [5.696807 , 7.8797874],\n",
       "              [4.785487 , 7.1458354]], dtype=float32),\n",
       " DeviceArray([[5.321168 , 5.0487185],\n",
       "              [7.947883 , 3.911863 ],\n",
       "              [7.0904856, 4.478323 ],\n",
       "              [5.2363334, 3.685265 ],\n",
       "              [6.5015497, 5.8183217],\n",
       "              [6.631995 , 4.221627 ],\n",
       "              [6.5736375, 5.0239077],\n",
       "              [4.4627123, 4.9097166],\n",
       "              [7.162036 , 6.50132  ],\n",
       "              [3.4799037, 3.0164893]], dtype=float32))"
      ]
     },
     "execution_count": null,
     "metadata": {},
     "output_type": "execute_result"
    }
   ],
   "source": [
    "get_three_blobs(num_points=10)"
   ]
  },
  {
   "cell_type": "code",
   "execution_count": null,
   "metadata": {},
   "outputs": [],
   "source": []
  }
 ],
 "metadata": {
  "kernelspec": {
   "display_name": "Python 3",
   "language": "python",
   "name": "python3"
  }
 },
 "nbformat": 4,
 "nbformat_minor": 4
}
