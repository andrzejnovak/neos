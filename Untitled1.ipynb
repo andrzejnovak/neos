{
 "cells": [
  {
   "cell_type": "code",
   "execution_count": null,
   "metadata": {},
   "outputs": [],
   "source": [
    "# data"
   ]
  },
  {
   "cell_type": "code",
   "execution_count": null,
   "metadata": {},
   "outputs": [],
   "source": [
    "def from_spec(spec, hist_maker):\n",
    "    \n",
    "    return\n",
    "\n",
    "def three_blobs(NMC = 500, sig_mean = [-1, 1], b1_mean=[2, 2], b2_mean=[-1, -1]):\n",
    "    bkg1 = np.random.multivariate_normal(b1_mean, [[1, 0], [0, 1]], size=(NMC,))\n",
    "    bkg2 = np.random.multivariate_normal(b2_mean, [[1, 0], [0, 1]], size=(NMC,))\n",
    "    sig = np.random.multivariate_normal(sig_mean, [[1, 0], [0, 1]], size=(NMC,))\n",
    "    return sig,(bkg1,bkg2) # sig, bkg\n",
    "    \n",
    "\n",
    "def hist_maker():\n",
    "        \n",
    "        def make(network):\n",
    "            return get_hists(network, sig, bkg1, bkg2)\n",
    "\n",
    "        make.bkg1 = bkg1\n",
    "        make.bkg2 = bkg2\n",
    "        make.sig = sig\n",
    "        return make"
   ]
  }
 ],
 "metadata": {
  "kernelspec": {
   "display_name": "Python 3",
   "language": "python",
   "name": "python3"
  }
 },
 "nbformat": 4,
 "nbformat_minor": 4
}
