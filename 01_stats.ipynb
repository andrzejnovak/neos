{
 "cells": [
  {
   "cell_type": "code",
   "execution_count": null,
   "metadata": {},
   "outputs": [],
   "source": [
    "# default_exp stats"
   ]
  },
  {
   "cell_type": "markdown",
   "metadata": {},
   "source": [
    "# fullstream.stats\n",
    "\n",
    "> Module for statistical computation in the context of particle physics inference."
   ]
  },
  {
   "cell_type": "code",
   "execution_count": null,
   "metadata": {},
   "outputs": [],
   "source": [
    "#export\n",
    "import pyhf\n",
    "pyhf.set_backend(pyhf.tensor.jax_backend())\n",
    "import numpy as onp\n",
    "import jax.numpy as np"
   ]
  },
  {
   "cell_type": "code",
   "execution_count": null,
   "metadata": {},
   "outputs": [],
   "source": [
    "#export\n",
    "def hists_from_nn(nn, params, sigevents, bkgevents, scale=False, use_jax=True):\n",
    "    '''Create nn-based binned summary statistics from signal and background events. \n",
    "    nn should be a predict method that's callable on arguments (data,params), and have a logsoftmax output.'''\n",
    "    \n",
    "    # set some arbitrary scale factors\n",
    "    # todo change\n",
    "    sig_sf = 0.02 if scale else 1 \n",
    "    bkg_sf = 0.1 if scale else 1\n",
    "\n",
    "    sighist = np.sum(np.exp(nn(sigevents,params)),axis=0)*sig_sf\n",
    "    bkghist = np.sum(np.exp(nn(bkgevents,params)),axis=0)*bkg_sf\n",
    "    \n",
    "    if use_jax:\n",
    "        return sighist, bkghist\n",
    "    else:\n",
    "        return onp.asarray(sighist), onp.asarray(bkghist)"
   ]
  },
  {
   "cell_type": "code",
   "execution_count": null,
   "metadata": {},
   "outputs": [
    {
     "name": "stderr",
     "output_type": "stream",
     "text": [
      "/home/phinate/envs/fullstream/lib/python3.7/site-packages/jax-0.1.58-py3.7.egg/jax/lib/xla_bridge.py:119: UserWarning: No GPU/TPU found, falling back to CPU.\n"
     ]
    }
   ],
   "source": [
    "from fullstream.nn import simple_classifier"
   ]
  },
  {
   "cell_type": "code",
   "execution_count": null,
   "metadata": {},
   "outputs": [],
   "source": [
    "x = simple_classifier(dist=3)"
   ]
  },
  {
   "cell_type": "code",
   "execution_count": null,
   "metadata": {},
   "outputs": [
    {
     "name": "stdout",
     "output_type": "stream",
     "text": [
      "\n",
      "Starting training...\n",
      "Epoch 0 in 3.20 sec\n",
      "Training set accuracy 0.87475\n",
      "Epoch 1 in 2.76 sec\n",
      "Training set accuracy 0.9105\n",
      "Epoch 2 in 2.81 sec\n",
      "Training set accuracy 0.9246\n"
     ]
    }
   ],
   "source": [
    "x.train()"
   ]
  },
  {
   "cell_type": "code",
   "execution_count": null,
   "metadata": {},
   "outputs": [],
   "source": [
    "sighist, bkghist = hists_from_nn(x, x.params, x.gen_sig(1000), x.gen_bkg(1000), scale=True, use_jax=True)[0]"
   ]
  },
  {
   "cell_type": "markdown",
   "metadata": {},
   "source": [
    "- 0 --> NN thinks it's background\n",
    "- 1 --> NN thinks it's signal"
   ]
  },
  {
   "cell_type": "code",
   "execution_count": null,
   "metadata": {},
   "outputs": [
    {
     "data": {
      "text/plain": [
       "<matplotlib.legend.Legend at 0x7f727816fa50>"
      ]
     },
     "execution_count": null,
     "metadata": {},
     "output_type": "execute_result"
    },
    {
     "data": {
      "image/png": "[encoded data removed]",
      "text/plain": [
       "<Figure size 432x288 with 1 Axes>"
      ]
     },
     "metadata": {
      "needs_background": "light"
     },
     "output_type": "display_data"
    }
   ],
   "source": [
    "import matplotlib.pyplot as plt\n",
    "plt.bar([0,1], bkghist, label='background hist')\n",
    "plt.bar([0,1], sighist, bottom=bkghist, label='signal hist')\n",
    "plt.legend()"
   ]
  },
  {
   "cell_type": "code",
   "execution_count": null,
   "metadata": {},
   "outputs": [],
   "source": [
    "#export\n",
    "def simple_nn_logpdf(nn_pars,nn,pars,data,sig_data,bkg_data,bkg_uncerts,use_jax=False):\n",
    "        '''Return pyhf.Model.logpdf for a simple two-bin model, containing a signal and background histogram created using hists_from_nn.'''\n",
    "        tensorlib, _ = pyhf.get_backend()\n",
    "        \n",
    "        sig_hist, bkg_hist = hists_from_nn(nn, nn_pars, sig_data, bkg_data, scale=True, use_jax=use_jax) \n",
    "        \n",
    "        spec = {\n",
    "        'channels': [\n",
    "            {\n",
    "                'name': 'singlechannel',\n",
    "                'samples': [\n",
    "                    {\n",
    "                        'name': 'signal',\n",
    "                        'data': sig_hist,\n",
    "                        'modifiers': [\n",
    "                            {'name': 'mu', 'type': 'normfactor', 'data': None}\n",
    "                        ],\n",
    "                    },\n",
    "                    {\n",
    "                        'name': 'background',\n",
    "                        'data': bkg_hist,\n",
    "                        'modifiers': [\n",
    "                            {\n",
    "                                'name': 'uncorr_bkguncrt',\n",
    "                                'type': 'shapesys',\n",
    "                                'data': bkg_hist,\n",
    "                            }\n",
    "                        ],\n",
    "                    },\n",
    "                ],\n",
    "            }\n",
    "        ]\n",
    "    }\n",
    "        model = pyhf.Model(spec)\n",
    "        print(spec)\n",
    "        data += model.config.auxdata\n",
    "        data = tensorlib.astensor(data)\n",
    "        pars = tensorlib.astensor(pars)\n",
    "\n",
    "        # grad only defined for scalar output functions, not [scalar]\n",
    "        return model.logpdf(pars,data)[0]"
   ]
  },
  {
   "cell_type": "code",
   "execution_count": null,
   "metadata": {},
   "outputs": [],
   "source": [
    "from jax import grad"
   ]
  },
  {
   "cell_type": "code",
   "execution_count": null,
   "metadata": {},
   "outputs": [
    {
     "name": "stdout",
     "output_type": "stream",
     "text": [
      "{'channels': [{'name': 'singlechannel', 'samples': [{'name': 'signal', 'data': array([ 3.57937456, 16.42062544]), 'modifiers': [{'name': 'mu', 'type': 'normfactor', 'data': None}]}, {'name': 'background', 'data': array([90.37500699,  9.62499301]), 'modifiers': [{'name': 'uncorr_bkguncrt', 'type': 'shapesys', 'data': array([90.37500699,  9.62499301])}]}]}]}\n"
     ]
    },
    {
     "data": {
      "text/plain": [
       "DeviceArray(-8.59706471, dtype=float64)"
      ]
     },
     "execution_count": null,
     "metadata": {},
     "output_type": "execute_result"
    }
   ],
   "source": [
    "# with numpy\n",
    "simple_nn_logpdf(x.params,\n",
    "                 nn=x,\n",
    "                 pars=[1.,1.,1.],\n",
    "                 data=[100.,20.],\n",
    "                 sig_data=x.gen_sig(1000),\n",
    "                 bkg_data=x.gen_bkg(1000),\n",
    "                 bkg_uncerts=[7,7],\n",
    "                 use_jax=False)"
   ]
  },
  {
   "cell_type": "code",
   "execution_count": null,
   "metadata": {},
   "outputs": [
    {
     "name": "stdout",
     "output_type": "stream",
     "text": [
      "{'channels': [{'name': 'singlechannel', 'samples': [{'name': 'signal', 'data': Traced<ConcreteArray([ 3.57937456 16.42062544])>with<JVPTrace(level=1/0)>, 'modifiers': [{'name': 'mu', 'type': 'normfactor', 'data': None}]}, {'name': 'background', 'data': Traced<ConcreteArray([90.37500699  9.62499301])>with<JVPTrace(level=1/0)>, 'modifiers': [{'name': 'uncorr_bkguncrt', 'type': 'shapesys', 'data': Traced<ConcreteArray([90.37500699  9.62499301])>with<JVPTrace(level=1/0)>}]}]}]}\n"
     ]
    },
    {
     "data": {
      "text/plain": [
       "[(DeviceArray([[-1.23084869e+01,  5.56208658e+00,  3.23549932e-04,\n",
       "                 1.93820204e-04,  1.36456175e+01,  0.00000000e+00,\n",
       "                 0.00000000e+00, -1.01762481e-07,  0.00000000e+00,\n",
       "                 1.39686184e+01],\n",
       "               [-1.67865543e+01,  7.58433676e+00,  9.15458295e-05,\n",
       "                 5.29033168e-05,  1.86071892e+01,  0.00000000e+00,\n",
       "                 0.00000000e+00,  6.07859306e-07,  0.00000000e+00,\n",
       "                 1.90502663e+01]], dtype=float32),\n",
       "  DeviceArray([-3.3381634e+00,  1.5081198e+00,  4.9363494e-05,\n",
       "                3.0261819e-05,  3.6999438e+00,  0.0000000e+00,\n",
       "                0.0000000e+00,  1.4742641e-07,  0.0000000e+00,\n",
       "                3.7882504e+00], dtype=float32)),\n",
       " (),\n",
       " (DeviceArray([[ 7.3315840e+00, -7.3315840e+00],\n",
       "               [ 2.1346252e+00, -2.1346252e+00],\n",
       "               [ 3.3933472e-06, -3.3933472e-06],\n",
       "               [ 5.3991002e-06, -5.3991002e-06],\n",
       "               [ 4.8403034e+00, -4.8403034e+00],\n",
       "               [ 0.0000000e+00,  0.0000000e+00],\n",
       "               [ 0.0000000e+00,  0.0000000e+00],\n",
       "               [ 7.0510526e-07, -7.0510526e-07],\n",
       "               [ 0.0000000e+00,  0.0000000e+00],\n",
       "               [ 5.3927464e+00, -5.3927464e+00]], dtype=float32),\n",
       "  DeviceArray([ 2.4538043, -2.4538043], dtype=float32)),\n",
       " ()]"
      ]
     },
     "execution_count": null,
     "metadata": {},
     "output_type": "execute_result"
    }
   ],
   "source": [
    "# with jax\n",
    "grad(simple_nn_logpdf)(x.params,\n",
    "                       nn=x,\n",
    "                       pars=[1.,1.,1.],\n",
    "                       data=[100.,20.],\n",
    "                       sig_data=x.gen_sig(1000),\n",
    "                       bkg_data=x.gen_bkg(1000),\n",
    "                       bkg_uncerts=[7,7],\n",
    "                       use_jax=True)"
   ]
  },
  {
   "cell_type": "code",
   "execution_count": null,
   "metadata": {},
   "outputs": [],
   "source": [
    "#export\n",
    "def hists_from_nn_uncert(nn, params, sig, bkg1, bkg2, scale=True, use_jax=True):\n",
    "    '''Create nn-based binned summary statistics from signal and background events. \n",
    "    nn should be a predict method that's callable on arguments (data,params), and have a logsoftmax output.'''\n",
    "    \n",
    "    # set some arbitrary scale factors\n",
    "    # todo change\n",
    "    sig_sf = 0.02 if scale else 1 \n",
    "    bkg_sf = 0.1 if scale else 1\n",
    "\n",
    "    sighist = np.sum(np.exp(nn(sig,params)),axis=0)*sig_sf\n",
    "    b1 = np.sum(np.exp(nn(bkg1,params)),axis=0)*bkg_sf\n",
    "    b2 = np.sum(np.exp(nn(bkg2,params)),axis=0)*bkg_sf\n",
    "\n",
    "    bkghist = np.mean((b1,b2),axis=0)\n",
    "    bkguncert = np.abs((b1-b2)/2.)\n",
    "    if use_jax:\n",
    "        return sighist, bkghist,bkguncert \n",
    "    else:\n",
    "        return onp.asarray(sighist), onp.asarray(bkghist)"
   ]
  },
  {
   "cell_type": "code",
   "execution_count": null,
   "metadata": {},
   "outputs": [],
   "source": [
    "def get_event_data(keys=[1,2,3]):\n",
    "    k1,k2,k3 = keys\n",
    "    sig  = jax.random.multivariate_normal(jax.random.PRNGKey(k1), jax.numpy.asarray([2,5]), jax.numpy.asarray([[1,0.],[0.,1]]),shape=(1,5000))[0]\n",
    "    bkg1 = jax.random.multivariate_normal(jax.random.PRNGKey(k2), jax.numpy.asarray([4,6]), jax.numpy.asarray([[1,0.6],[0.6,1]]),shape=(1,5000))[0]\n",
    "    bkg2 = jax.random.multivariate_normal(jax.random.PRNGKey(k3), jax.numpy.asarray([5.5,4.5]), jax.numpy.asarray([[1.7,0.2],[0.2,1]]),shape=(1,5000))[0]\n",
    "    return sig,bkg1,bkg2\n",
    "\n",
    "\n",
    "hists_from_nn_uncert(nn, params, sig, bkg1, bkg2)"
   ]
  },
  {
   "cell_type": "code",
   "execution_count": null,
   "metadata": {},
   "outputs": [],
   "source": [
    "def nn_model(nn,nn_pars,pars,data,sig_data,bkg_data1,bkg_data2,use_jax=True):\n",
    "        '''Return pyhf.Model.logpdf for a simple two-bin model, containing a signal and background histogram created using hists_from_nn.'''\n",
    "        tensorlib, _ = pyhf.get_backend()\n",
    "        \n",
    "        sig_hist, bkg_hist bkg_uncert = hists_from_nn_uncert(nn, nn_pars, sig_data, bkg_data1, bkg_data2, scale=True, use_jax=use_jax) \n",
    "        \n",
    "        spec = {\n",
    "            'channels': [\n",
    "                {\n",
    "                    'name': 'singlechannel',\n",
    "                    'samples': [\n",
    "                        {\n",
    "                            'name': 'signal',\n",
    "                            'data': sig_hist,\n",
    "                            'modifiers': [\n",
    "                                {'name': 'mu', 'type': 'normfactor', 'data': None}\n",
    "                            ],\n",
    "                        },\n",
    "                        {\n",
    "                            'name': 'background',\n",
    "                            'data': bkg_hist,\n",
    "                            'modifiers': [\n",
    "                                {\n",
    "                                    'name': 'uncorr_bkguncrt',\n",
    "                                    'type': 'shapesys',\n",
    "                                    'data': bkg_uncert,\n",
    "                                }\n",
    "                            ],\n",
    "                        },\n",
    "                    ],\n",
    "                }\n",
    "            ]\n",
    "        }\n",
    "        model = pyhf.Model(spec)\n",
    "        print(spec)\n",
    "        data += model.config.auxdata\n",
    "        data = tensorlib.astensor(data)\n",
    "        pars = tensorlib.astensor(pars)\n",
    "\n",
    "        # grad only defined for scalar output functions, not [scalar]\n",
    "        return model.logpdf(pars,data)[0]"
   ]
  }
 ],
 "metadata": {
  "kernelspec": {
   "display_name": "Python 3",
   "language": "python",
   "name": "python3"
  }
 },
 "nbformat": 4,
 "nbformat_minor": 4
}
