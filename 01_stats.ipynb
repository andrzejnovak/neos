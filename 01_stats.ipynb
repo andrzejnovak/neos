{
 "cells": [
  {
   "cell_type": "code",
   "execution_count": null,
   "metadata": {},
   "outputs": [],
   "source": [
    "# default_exp stats"
   ]
  },
  {
   "cell_type": "markdown",
   "metadata": {},
   "source": [
    "# fullstream.stats\n",
    "\n",
    "> Module for statistical computation in the context of particle physics inference."
   ]
  },
  {
   "cell_type": "code",
   "execution_count": null,
   "metadata": {},
   "outputs": [],
   "source": [
    "#export\n",
    "import pyhf\n",
    "pyhf.set_backend(pyhf.tensor.jax_backend())\n",
    "import numpy as onp\n",
    "import jax.numpy as np"
   ]
  },
  {
   "cell_type": "code",
   "execution_count": null,
   "metadata": {},
   "outputs": [],
   "source": [
    "#export\n",
    "def hists_from_nn(nn, params, sigevents, bkgevents, scale=False, use_jax=True):\n",
    "    '''Create nn-based binned summary statistics from signal and background events. \n",
    "    nn should be a predict method that's callable on arguments (data,params), and have a logsoftmax output.'''\n",
    "    \n",
    "    # set some arbitrary scale factors\n",
    "    # todo change\n",
    "    sig_sf = 0.02 if scale else 1 \n",
    "    bkg_sf = 0.1 if scale else 1\n",
    "\n",
    "    sighist = np.sum(np.exp(nn(sigevents,params)),axis=0)*sig_sf\n",
    "    bkghist = np.sum(np.exp(nn(bkgevents,params)),axis=0)*bkg_sf\n",
    "    \n",
    "    if use_jax:\n",
    "        return sighist, bkghist\n",
    "    else:\n",
    "        return onp.asarray(sighist), onp.asarray(bkghist)"
   ]
  },
  {
   "cell_type": "code",
   "execution_count": null,
   "metadata": {},
   "outputs": [
    {
     "name": "stderr",
     "output_type": "stream",
     "text": [
      "/home/phinate/miniconda3/lib/python3.7/site-packages/jax/lib/xla_bridge.py:119: UserWarning: No GPU/TPU found, falling back to CPU.\n",
      "  warnings.warn('No GPU/TPU found, falling back to CPU.')\n"
     ]
    }
   ],
   "source": [
    "from fullstream.nn import simple_classifier"
   ]
  },
  {
   "cell_type": "code",
   "execution_count": null,
   "metadata": {},
   "outputs": [],
   "source": [
    "x = simple_classifier(dist=3)"
   ]
  },
  {
   "cell_type": "code",
   "execution_count": null,
   "metadata": {},
   "outputs": [
    {
     "name": "stdout",
     "output_type": "stream",
     "text": [
      "\n",
      "Starting training...\n",
      "Epoch 0 in 4.02 sec\n",
      "Training set accuracy 0.87475\n",
      "Epoch 1 in 3.29 sec\n",
      "Training set accuracy 0.9105\n",
      "Epoch 2 in 4.23 sec\n",
      "Training set accuracy 0.9246\n"
     ]
    }
   ],
   "source": [
    "x.train()"
   ]
  },
  {
   "cell_type": "code",
   "execution_count": null,
   "metadata": {},
   "outputs": [],
   "source": [
    "sighist, bkghist = hists_from_nn(x, x.params, x.gen_sig(1000), x.gen_bkg(1000), scale=True, use_jax=False) "
   ]
  },
  {
   "cell_type": "markdown",
   "metadata": {},
   "source": [
    "- 0 --> NN thinks it's background\n",
    "- 1 --> NN thinks it's signal"
   ]
  },
  {
   "cell_type": "code",
   "execution_count": null,
   "metadata": {},
   "outputs": [
    {
     "data": {
      "text/plain": [
       "<matplotlib.legend.Legend at 0x7fe3d1313810>"
      ]
     },
     "execution_count": null,
     "metadata": {},
     "output_type": "execute_result"
    },
    {
     "data": {
      "image/png": "[encoded data removed]",
      "text/plain": [
       "<Figure size 432x288 with 1 Axes>"
      ]
     },
     "metadata": {
      "needs_background": "light"
     },
     "output_type": "display_data"
    }
   ],
   "source": [
    "import matplotlib.pyplot as plt\n",
    "plt.bar([0,1], bkghist, label='background hist')\n",
    "plt.bar([0,1], sighist, bottom=bkghist, label='signal hist')\n",
    "plt.legend()"
   ]
  },
  {
   "cell_type": "code",
   "execution_count": null,
   "metadata": {},
   "outputs": [],
   "source": [
    "#export\n",
    "def simple_nn_logpdf(nn_pars,nn,pars,data,sig_data,bkg_data,bkg_uncerts,use_jax=False):\n",
    "        '''Return pyhf.Model.logpdf for a simple two-bin model, containing a signal and background histogram created using hists_from_nn.'''\n",
    "        tensorlib, _ = pyhf.get_backend()\n",
    "        \n",
    "        sig_hist, bkg_hist = hists_from_nn(nn, nn_pars, sig_data, bkg_data, scale=True, use_jax=use_jax) \n",
    "        \n",
    "        spec = {\n",
    "        'channels': [\n",
    "            {\n",
    "                'name': 'singlechannel',\n",
    "                'samples': [\n",
    "                    {\n",
    "                        'name': 'signal',\n",
    "                        'data': sig_hist,\n",
    "                        'modifiers': [\n",
    "                            {'name': 'mu', 'type': 'normfactor', 'data': None}\n",
    "                        ],\n",
    "                    },\n",
    "                    {\n",
    "                        'name': 'background',\n",
    "                        'data': bkg_hist,\n",
    "                        'modifiers': [\n",
    "                            {\n",
    "                                'name': 'uncorr_bkguncrt',\n",
    "                                'type': 'shapesys',\n",
    "                                'data': bkg_uncerts,\n",
    "                            }\n",
    "                        ],\n",
    "                    },\n",
    "                ],\n",
    "            }\n",
    "        ]\n",
    "    }\n",
    "        model = pyhf.Model(spec)\n",
    "\n",
    "        data += model.config.auxdata\n",
    "        data = tensorlib.astensor(data)\n",
    "        pars = tensorlib.astensor(pars)\n",
    "\n",
    "        # grad only defined for scalar output functions, not [scalar]\n",
    "        return model.logpdf(pars,data)[0]"
   ]
  },
  {
   "cell_type": "code",
   "execution_count": null,
   "metadata": {},
   "outputs": [],
   "source": [
    "from jax import grad"
   ]
  },
  {
   "cell_type": "code",
   "execution_count": null,
   "metadata": {},
   "outputs": [
    {
     "data": {
      "text/plain": [
       "DeviceArray(-11.35564634, dtype=float64)"
      ]
     },
     "execution_count": null,
     "metadata": {},
     "output_type": "execute_result"
    }
   ],
   "source": [
    "# with numpy\n",
    "simple_nn_logpdf(x.params,\n",
    "                 nn=x,\n",
    "                 pars=[1.,1.,1.],\n",
    "                 data=[100.,20.],\n",
    "                 sig_data=x.gen_sig(1000),\n",
    "                 bkg_data=x.gen_bkg(1000),\n",
    "                 bkg_uncerts=[7,7],\n",
    "                 use_jax=False)"
   ]
  },
  {
   "cell_type": "code",
   "execution_count": null,
   "metadata": {},
   "outputs": [
    {
     "data": {
      "text/plain": [
       "[(DeviceArray([[-1.23084898e+01,  5.56208515e+00,  3.23549903e-04,\n",
       "                 1.93820204e-04,  1.36456146e+01,  0.00000000e+00,\n",
       "                 0.00000000e+00, -1.01762446e-07,  0.00000000e+00,\n",
       "                 1.39686193e+01],\n",
       "               [-1.67865562e+01,  7.58433485e+00,  9.15458222e-05,\n",
       "                 5.29033096e-05,  1.86071854e+01,  0.00000000e+00,\n",
       "                 0.00000000e+00,  6.07858965e-07,  0.00000000e+00,\n",
       "                 1.90502701e+01]], dtype=float32),\n",
       "  DeviceArray([-3.3381641e+00,  1.5081193e+00,  4.9363491e-05,\n",
       "                3.0261817e-05,  3.6999431e+00,  0.0000000e+00,\n",
       "                0.0000000e+00,  1.4742631e-07,  0.0000000e+00,\n",
       "                3.7882507e+00], dtype=float32)),\n",
       " (),\n",
       " (DeviceArray([[ 7.3315835e+00, -7.3315835e+00],\n",
       "               [ 2.1346250e+00, -2.1346250e+00],\n",
       "               [ 3.3933479e-06, -3.3933479e-06],\n",
       "               [ 5.3991025e-06, -5.3991025e-06],\n",
       "               [ 4.8403077e+00, -4.8403077e+00],\n",
       "               [ 0.0000000e+00,  0.0000000e+00],\n",
       "               [ 0.0000000e+00,  0.0000000e+00],\n",
       "               [ 7.0510544e-07, -7.0510544e-07],\n",
       "               [ 0.0000000e+00,  0.0000000e+00],\n",
       "               [ 5.3927441e+00, -5.3927441e+00]], dtype=float32),\n",
       "  DeviceArray([ 2.4538045, -2.4538045], dtype=float32)),\n",
       " ()]"
      ]
     },
     "execution_count": null,
     "metadata": {},
     "output_type": "execute_result"
    }
   ],
   "source": [
    "# with jax\n",
    "grad(simple_nn_logpdf)(x.params,\n",
    "                       nn=x,\n",
    "                       pars=[1.,1.,1.],\n",
    "                       data=[100.,20.],\n",
    "                       sig_data=x.gen_sig(1000),\n",
    "                       bkg_data=x.gen_bkg(1000),\n",
    "                       bkg_uncerts=[7,7],\n",
    "                       use_jax=True)"
   ]
  }
 ],
 "metadata": {
  "kernelspec": {
   "display_name": "Python 3",
   "language": "python",
   "name": "python3"
  }
 },
 "nbformat": 4,
 "nbformat_minor": 4
}
