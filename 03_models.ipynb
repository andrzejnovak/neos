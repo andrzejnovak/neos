{
 "cells": [
  {
   "cell_type": "code",
   "execution_count": null,
   "metadata": {},
   "outputs": [],
   "source": [
    "# default_exp models"
   ]
  },
  {
   "cell_type": "markdown",
   "metadata": {},
   "source": [
    "# neos.models\n",
    "\n",
    "> Surrogate module to temorarily replace pyhf functionality."
   ]
  },
  {
   "cell_type": "code",
   "execution_count": null,
   "metadata": {},
   "outputs": [],
   "source": [
    "# export\n",
    "import pyhf\n",
    "import jax\n",
    "from jax.config import config\n",
    "from jax.experimental import stax\n",
    "\n",
    "from neos.data import get_three_blobs\n",
    "from neos.hists import hists_from_nn_bkg_var\n",
    "\n",
    "# avoid those precision errors!\n",
    "config.update(\"jax_enable_x64\", True)\n",
    "\n",
    "pyhf.set_backend(pyhf.tensor.jax_backend())"
   ]
  },
  {
   "cell_type": "markdown",
   "metadata": {},
   "source": [
    "### multi-bin pyhf"
   ]
  },
  {
   "cell_type": "code",
   "execution_count": null,
   "metadata": {},
   "outputs": [],
   "source": [
    "# export\n",
    "class _Config(object):\n",
    "    def __init__(self):\n",
    "        self.poi_index = 0\n",
    "        self.npars = 2\n",
    "\n",
    "    def suggested_init(self):\n",
    "        return jax.numpy.asarray([1.0, 1.0])\n",
    "\n",
    "    def suggested_bounds(self):\n",
    "        return jax.numpy.asarray(\n",
    "            [jax.numpy.asarray([0.0, 10.0]), jax.numpy.asarray([0.0, 10.0])]\n",
    "        )\n",
    "\n",
    "\n",
    "class Model(object):\n",
    "    def __init__(self, spec):\n",
    "        self.sig, self.nominal, self.uncert = spec\n",
    "        self.factor = (self.nominal / self.uncert) ** 2\n",
    "        self.aux = 1.0 * self.factor\n",
    "        self.config = _Config()\n",
    "\n",
    "    def expected_data(self, pars, include_auxdata=True):\n",
    "        mu, gamma = pars\n",
    "        expected_main = jax.numpy.asarray([gamma * self.nominal + mu * self.sig])\n",
    "        aux_data = jax.numpy.asarray([self.aux])\n",
    "        return jax.numpy.concatenate([expected_main, aux_data])\n",
    "\n",
    "    def logpdf(self, pars, data):\n",
    "        maindata, auxdata = data\n",
    "        main, _ = self.expected_data(pars)\n",
    "        mu, gamma = pars\n",
    "        main = pyhf.probability.Poisson(main).log_prob(maindata)\n",
    "        constraint = pyhf.probability.Poisson(gamma * self.factor).log_prob(auxdata)\n",
    "        # sum log probs over bins\n",
    "        return jax.numpy.asarray([jax.numpy.sum(main + constraint,axis=0)])\n",
    "\n",
    "\n",
    "def hepdata_like(signal_data, bkg_data, bkg_uncerts, batch_size=None):\n",
    "    return Model([signal_data, bkg_data, bkg_uncerts])"
   ]
  },
  {
   "cell_type": "code",
   "execution_count": null,
   "metadata": {},
   "outputs": [
    {
     "name": "stderr",
     "output_type": "stream",
     "text": [
      "/home/phinate/envs/fullstream/lib/python3.7/site-packages/jax-0.1.58-py3.7.egg/jax/lib/xla_bridge.py:119: UserWarning: No GPU/TPU found, falling back to CPU.\n"
     ]
    },
    {
     "data": {
      "text/plain": [
       "DeviceArray([-15.09130171], dtype=float64)"
      ]
     },
     "execution_count": null,
     "metadata": {},
     "output_type": "execute_result"
    }
   ],
   "source": [
    "sig = jax.numpy.asarray([20,40,3])\n",
    "bkg = jax.numpy.asarray([40,20,3])\n",
    "un = jax.numpy.asarray([3,3,3])\n",
    "m = hepdata_like(sig,bkg,un)\n",
    "d = m.expected_data([1,1])\n",
    "m.logpdf(pars=[1.,1.],data=d)"
   ]
  },
  {
   "cell_type": "markdown",
   "metadata": {},
   "source": [
    "### 2-bin nn_model_maker, but only take first bin for now"
   ]
  },
  {
   "cell_type": "code",
   "execution_count": null,
   "metadata": {},
   "outputs": [],
   "source": [
    "# export\n",
    "def nn_model_maker(nn_params):\n",
    "    # instantiate nn architecture\n",
    "    _, predict = stax.serial(stax.Dense(5), stax.Relu, stax.Dense(2), stax.LogSoftmax)\n",
    "    # grab data\n",
    "    keys = [1, 2, 3]\n",
    "    batch_size = 5000\n",
    "    a, b, c = get_three_blobs(keys, batch_size)\n",
    "    s, b, db = hists_from_nn_bkg_var(predict, nn_params, a, jax.numpy.asarray([b, c]))\n",
    "\n",
    "    # arbitrary scaling:\n",
    "    s, b, db = s / 5.0, b / 10.0, db / 10.0\n",
    "    print(f\"model: {s},{b},{db}\")\n",
    "    m = hepdata_like(s, b, db)\n",
    "    nompars = m.config.suggested_init()\n",
    "    bonlypars = jax.numpy.asarray([x for x in nompars])\n",
    "    bonlypars = jax.ops.index_update(bonlypars, m.config.poi_index, 0.0)\n",
    "    return m, bonlypars"
   ]
  },
  {
   "cell_type": "code",
   "execution_count": null,
   "metadata": {},
   "outputs": [
    {
     "name": "stdout",
     "output_type": "stream",
     "text": [
      "\n",
      "Starting training...\n",
      "Epoch 0 in 4.48 sec\n",
      "Training set accuracy 0.8476\n",
      "model: [ 6.40477037 13.59522963],[43.13707402  6.86292598],[4.44113382 4.44113382]\n"
     ]
    },
    {
     "data": {
      "text/plain": [
       "(<__main__.Model at 0x7f31880f42d0>, DeviceArray([0., 1.], dtype=float64))"
      ]
     },
     "execution_count": null,
     "metadata": {},
     "output_type": "execute_result"
    },
    {
     "data": {
      "image/png": "[encoded data removed]",
      "text/plain": [
       "<Figure size 432x288 with 1 Axes>"
      ]
     },
     "metadata": {
      "needs_background": "light"
     },
     "output_type": "display_data"
    }
   ],
   "source": [
    "from neos.nn import three_blob_classifier\n",
    "\n",
    "x = three_blob_classifier()\n",
    "_ = x.train(num_epochs=1)\n",
    "nn_params = x.params\n",
    "\n",
    "nn_model_maker(nn_params)"
   ]
  },
  {
   "cell_type": "code",
   "execution_count": null,
   "metadata": {},
   "outputs": [],
   "source": []
  }
 ],
 "metadata": {
  "kernelspec": {
   "display_name": "Python 3",
   "language": "python",
   "name": "python3"
  }
 },
 "nbformat": 4,
 "nbformat_minor": 4
}
