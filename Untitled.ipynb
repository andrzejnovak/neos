{
 "cells": [
  {
   "cell_type": "code",
   "execution_count": null,
   "metadata": {},
   "outputs": [],
   "source": [
    "import jax\n",
    "import numpy as np\n",
    "from functools import partial\n",
    "\n",
    "def kde_cdf(x,data,bandwidth):\n",
    "    \n",
    "#   is this slow to vmap every time?\n",
    "    \n",
    "    return kde_cdf_point(x)\n",
    "\n",
    "def kde_cdf_point(x,data,bandwidth):\n",
    "        return jax.numpy.mean(0.5*(1+jax.scipy.special.erf((-data+x)/(bandwidth*2**0.5))))\n",
    "\n",
    "    \n",
    "def binwise_cdf(edges,data,bandwidth):\n",
    "    cdfs = kde_cdf(edges,data,bandwidth)\n",
    "    return cdfs[1:] - cdfs[:-1]\n",
    "\n"
   ]
  },
  {
   "cell_type": "code",
   "execution_count": null,
   "metadata": {},
   "outputs": [
    {
     "name": "stderr",
     "output_type": "stream",
     "text": [
      "/Users/phinate/envs/neos/lib/python3.7/site-packages/jax/lib/xla_bridge.py:122: UserWarning: No GPU/TPU found, falling back to CPU.\n",
      "  warnings.warn('No GPU/TPU found, falling back to CPU.')\n"
     ]
    }
   ],
   "source": [
    "kde_counts = s,b1,b2 = jax.numpy.asarray([\n",
    "            1,\n",
    "            2,\n",
    "3])"
   ]
  },
  {
   "cell_type": "code",
   "execution_count": null,
   "metadata": {},
   "outputs": [
    {
     "data": {
      "text/plain": [
       "2"
      ]
     },
     "execution_count": null,
     "metadata": {},
     "output_type": "execute_result"
    }
   ],
   "source": [
    "b1"
   ]
  },
  {
   "cell_type": "code",
   "execution_count": null,
   "metadata": {},
   "outputs": [
    {
     "data": {
      "text/plain": [
       "DeviceArray(2., dtype=float32)"
      ]
     },
     "execution_count": null,
     "metadata": {},
     "output_type": "execute_result"
    }
   ],
   "source": [
    "jax.numpy.mean(jax.numpy.asarray(b1,b2))"
   ]
  },
  {
   "cell_type": "code",
   "execution_count": null,
   "metadata": {},
   "outputs": [],
   "source": []
  }
 ],
 "metadata": {
  "kernelspec": {
   "display_name": "Python 3",
   "language": "python",
   "name": "python3"
  }
 },
 "nbformat": 4,
 "nbformat_minor": 4
}
