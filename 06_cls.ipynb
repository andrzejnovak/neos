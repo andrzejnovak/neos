{
 "cells": [
  {
   "cell_type": "code",
   "execution_count": null,
   "metadata": {},
   "outputs": [],
   "source": [
    "# default_exp cls"
   ]
  },
  {
   "cell_type": "markdown",
   "metadata": {},
   "source": [
    "# fullstream.cls\n",
    "\n",
    "> Module containing the differentiable calculation of CLs values."
   ]
  },
  {
   "cell_type": "code",
   "execution_count": null,
   "metadata": {},
   "outputs": [],
   "source": [
    "#export\n",
    "import jax\n",
    "from jax import config\n",
    "import pyhf\n",
    "\n",
    "# avoid those precision errors!\n",
    "config.update(\"jax_enable_x64\", True)\n",
    "\n",
    "pyhf.set_backend(pyhf.tensor.jax_backend())\n",
    "\n",
    "from fullstream.fit import get_solvers\n",
    "#from fullstream.models import nn_model_maker\n",
    "from fullstream.transforms import *"
   ]
  },
  {
   "cell_type": "code",
   "execution_count": null,
   "metadata": {},
   "outputs": [],
   "source": [
    "# export\n",
    "def cls_maker(nn_model_maker, solver_kwargs):\n",
    "    def cls_jax(nn_params, test_mu):\n",
    "        g_fitter, c_fitter = get_solvers(nn_model_maker, **solver_kwargs)\n",
    "\n",
    "        m, bonlypars = nn_model_maker(nn_params)\n",
    "        exp_data = m.expected_data(bonlypars)\n",
    "        print(f'exp_data: {exp_data}')\n",
    "        bounds = m.config.suggested_bounds()\n",
    "\n",
    "        # map these\n",
    "        initval = jax.numpy.asarray([test_mu, 1.0])\n",
    "        transforms = solver_kwargs.get(\"pdf_transform\", False)\n",
    "        if transforms:\n",
    "            initval = to_inf_vec(initval, bounds)\n",
    "\n",
    "        # the constrained fit\n",
    "\n",
    "        #print('fitting constrained with init val %s setup %s', initval,[test_mu, nn_params])\n",
    "\n",
    "        numerator = (\n",
    "            to_bounded_vec(c_fitter(initval, [test_mu, nn_params]), bounds)\n",
    "            if transforms\n",
    "            else c_fitter(initval, [test_mu, nn_params])\n",
    "        )\n",
    "\n",
    "        denominator = bonlypars  # to_bounded_vec(g_fitter(initval, [test_mu, nn_params]), bounds) if transforms else g_fitter(initval, [test_mu, nn_params])\n",
    "\n",
    "        # print(f\"constrained fit: {numerator}\")\n",
    "        # print(f\"global fit: {denominator}\")\n",
    "\n",
    "        # compute test statistic (lambda(µ))\n",
    "        profile_likelihood = -2 * (\n",
    "            m.logpdf(numerator, exp_data)[0] - m.logpdf(denominator, exp_data)[0]\n",
    "        )\n",
    "\n",
    "        # in exclusion fit zero out test stat if best fit µ^ is larger than test µ\n",
    "        muhat = denominator[0]\n",
    "        sqrtqmu = jax.numpy.sqrt(\n",
    "            jax.numpy.where(muhat < test_mu, profile_likelihood, 0.0)\n",
    "        )\n",
    "        # print(f\"sqrt(q(mu)): {sqrtqmu}\")\n",
    "        # compute CLs\n",
    "        nullval = sqrtqmu\n",
    "        altval = 0\n",
    "        CLsb = 1 - pyhf.tensorlib.normal_cdf(nullval)\n",
    "        CLb = 1 - pyhf.tensorlib.normal_cdf(altval)\n",
    "        CLs = CLsb / CLb\n",
    "        return CLs\n",
    "\n",
    "    return cls_jax"
   ]
  },
  {
   "cell_type": "code",
   "execution_count": null,
   "metadata": {},
   "outputs": [
    {
     "name": "stderr",
     "output_type": "stream",
     "text": [
      "/home/phinate/envs/fullstream/lib/python3.7/site-packages/jax-0.1.58-py3.7.egg/jax/lib/xla_bridge.py:119: UserWarning: No GPU/TPU found, falling back to CPU.\n"
     ]
    },
    {
     "name": "stdout",
     "output_type": "stream",
     "text": [
      "\n",
      "Starting training...\n",
      "Epoch 0 in 4.46 sec\n",
      "Training set accuracy 0.8476\n"
     ]
    },
    {
     "data": {
      "image/png": "[encoded data removed]",
      "text/plain": [
       "<Figure size 432x288 with 1 Axes>"
      ]
     },
     "metadata": {
      "needs_background": "light"
     },
     "output_type": "display_data"
    }
   ],
   "source": [
    "from fullstream.nn import three_blob_classifier\n",
    "\n",
    "x = three_blob_classifier()\n",
    "_ = x.train(num_epochs=1)\n",
    "nn_params = x.params"
   ]
  },
  {
   "cell_type": "code",
   "execution_count": null,
   "metadata": {},
   "outputs": [
    {
     "data": {
      "text/plain": [
       "<function __main__.cls_maker.<locals>.cls_jax(nn_params, test_mu)>"
      ]
     },
     "execution_count": null,
     "metadata": {},
     "output_type": "execute_result"
    }
   ],
   "source": [
    "cls_maker(nn_params)"
   ]
  },
  {
   "cell_type": "code",
   "execution_count": null,
   "metadata": {},
   "outputs": [
    {
     "name": "stdout",
     "output_type": "stream",
     "text": [
      "model: [ 6.40477037 13.59522963],[43.13707402  6.86292598],[4.44113382 4.44113382]\n",
      "model: Traced<ShapedArray(float64[2]):JaxprTrace(level=0/0)>,Traced<ShapedArray(float64[2]):JaxprTrace(level=0/0)>,Traced<ShapedArray(float64[2]):JaxprTrace(level=0/0)>\n",
      "model: Traced<ShapedArray(float64[2]):JaxprTrace(level=0/0)>,Traced<ShapedArray(float64[2]):JaxprTrace(level=0/0)>,Traced<ShapedArray(float64[2]):JaxprTrace(level=0/0)>\n",
      "constrained fit: [ 1. 10.]\n",
      "global fit: [0.         0.59398947]\n"
     ]
    },
    {
     "data": {
      "text/plain": [
       "DeviceArray(0., dtype=float64)"
      ]
     },
     "execution_count": null,
     "metadata": {},
     "output_type": "execute_result"
    }
   ],
   "source": []
  }
 ],
 "metadata": {
  "kernelspec": {
   "display_name": "Python 3",
   "language": "python",
   "name": "python3"
  }
 },
 "nbformat": 4,
 "nbformat_minor": 4
}
