{
 "cells": [
  {
   "cell_type": "code",
   "execution_count": null,
   "metadata": {},
   "outputs": [],
   "source": [
    "# default_exp cls"
   ]
  },
  {
   "cell_type": "markdown",
   "metadata": {},
   "source": [
    "# fullstream.cls\n",
    "\n",
    "> Module containing the differentiable calculation of CLs values."
   ]
  },
  {
   "cell_type": "code",
   "execution_count": null,
   "metadata": {},
   "outputs": [],
   "source": [
    "#export\n",
    "import jax\n",
    "from jax import config\n",
    "import pyhf\n",
    "\n",
    "# avoid those precision errors!\n",
    "config.update(\"jax_enable_x64\", True)\n",
    "\n",
    "pyhf.set_backend(pyhf.tensor.jax_backend())\n",
    "\n",
    "from fullstream.fit import get_solvers\n",
    "from fullstream.models import nn_model_maker\n",
    "from fullstream.transforms import *"
   ]
  },
  {
   "cell_type": "code",
   "execution_count": null,
   "metadata": {},
   "outputs": [],
   "source": [
    "#export\n",
    "def cls_jax(nn_params, test_mu, transforms=False):\n",
    "\n",
    "    g_fitter, c_fitter = get_solvers(nn_model_maker, transforms)\n",
    "\n",
    "    m, bonlypars = nn_model_maker(nn_params)\n",
    "    exp_data = m.expected_data(bonlypars)\n",
    "    bounds = m.config.suggested_bounds()\n",
    "\n",
    "    # map these\n",
    "    initval = jax.numpy.asarray([test_mu, 1.])\n",
    "    if transforms:\n",
    "        initval = inv_transform_lim_vec(initval, bounds)\n",
    "        init_test_mu = inv_transform_lim(test_mu, bounds[0])\n",
    "\n",
    "        \n",
    "    # the constrained fit\n",
    "    numerator = transform_lim_vec(c_fitter(initval, [init_test_mu, nn_params]), bounds) if transforms else c_fitter(initval, [test_mu, nn_params])\n",
    "\n",
    "    denominator = transform_lim_vec(g_fitter(initval, [init_test_mu, nn_params]), bounds) if transforms else g_fitter(initval, [test_mu, nn_params])\n",
    "\n",
    "    print(f\"constrained fit: {numerator}\")\n",
    "    print(f\"global fit: {denominator}\")\n",
    "\n",
    "    # compute test statistic (lambda(µ))\n",
    "    profile_likelihood = -2 * (\n",
    "        m.logpdf(numerator, exp_data)[0] - m.logpdf(denominator, exp_data)[0]\n",
    "    )\n",
    "\n",
    "    # in exclusion fit zero out test stat if best fit µ^ is larger than test µ\n",
    "    muhat = denominator[0]\n",
    "    sqrtqmu = jax.numpy.sqrt(jax.numpy.where(muhat < test_mu, profile_likelihood, 0.0))\n",
    "    #print(f\"sqrt(q(mu)): {sqrtqmu}\")\n",
    "    # compute CLs\n",
    "    nullval = sqrtqmu\n",
    "    altval = 0\n",
    "    CLsb = 1 - pyhf.tensorlib.normal_cdf(nullval)\n",
    "    CLb = 1 - pyhf.tensorlib.normal_cdf(altval)\n",
    "    CLs = CLsb / CLb\n",
    "    return CLs"
   ]
  },
  {
   "cell_type": "code",
   "execution_count": null,
   "metadata": {},
   "outputs": [
    {
     "name": "stdout",
     "output_type": "stream",
     "text": [
      "\n",
      "Starting training...\n",
      "Epoch 0 in 2.63 sec\n",
      "Training set accuracy 0.8476\n"
     ]
    },
    {
     "data": {
      "image/png": "[encoded data removed]",
      "text/plain": [
       "<Figure size 432x288 with 1 Axes>"
      ]
     },
     "metadata": {
      "needs_background": "light"
     },
     "output_type": "display_data"
    }
   ],
   "source": [
    "from fullstream.nn import three_blob_classifier\n",
    "\n",
    "x = three_blob_classifier()\n",
    "_ = x.train(num_epochs=1)\n",
    "nn_params = x.params"
   ]
  },
  {
   "cell_type": "code",
   "execution_count": null,
   "metadata": {},
   "outputs": [
    {
     "name": "stdout",
     "output_type": "stream",
     "text": [
      "model: [ 6.40477037 13.59522963],[43.13707402  6.86292598],[4.44113382 4.44113382]\n",
      "model: Traced<ShapedArray(float64[2]):JaxprTrace(level=0/0)>,Traced<ShapedArray(float64[2]):JaxprTrace(level=0/0)>,Traced<ShapedArray(float64[2]):JaxprTrace(level=0/0)>\n",
      "model: Traced<ShapedArray(float64[2]):JaxprTrace(level=0/0)>,Traced<ShapedArray(float64[2]):JaxprTrace(level=0/0)>,Traced<ShapedArray(float64[2]):JaxprTrace(level=0/0)>\n",
      "constrained fit: [1.         0.96071416]\n",
      "global fit: [0.01694888 1.0021199 ]\n"
     ]
    },
    {
     "data": {
      "text/plain": [
       "DeviceArray(0.42813986, dtype=float64)"
      ]
     },
     "execution_count": null,
     "metadata": {},
     "output_type": "execute_result"
    }
   ],
   "source": [
    "cls_jax(nn_params, 1.0)"
   ]
  },
  {
   "cell_type": "code",
   "execution_count": null,
   "metadata": {},
   "outputs": [
    {
     "name": "stdout",
     "output_type": "stream",
     "text": [
      "model: [ 6.40477037 13.59522963],[43.13707402  6.86292598],[4.44113382 4.44113382]\n",
      "model: Traced<ShapedArray(float64[2]):JaxprTrace(level=0/0)>,Traced<ShapedArray(float64[2]):JaxprTrace(level=0/0)>,Traced<ShapedArray(float64[2]):JaxprTrace(level=0/0)>\n",
      "model: Traced<ShapedArray(float64[2]):JaxprTrace(level=0/0)>,Traced<ShapedArray(float64[2]):JaxprTrace(level=0/0)>,Traced<ShapedArray(float64[2]):JaxprTrace(level=0/0)>\n",
      "constrained fit: [ 1. 10.]\n",
      "global fit: [0.         0.59398947]\n"
     ]
    },
    {
     "data": {
      "text/plain": [
       "DeviceArray(0., dtype=float64)"
      ]
     },
     "execution_count": null,
     "metadata": {},
     "output_type": "execute_result"
    }
   ],
   "source": [
    "cls_jax(nn_params, 1.0, True)"
   ]
  }
 ],
 "metadata": {
  "kernelspec": {
   "display_name": "Python 3",
   "language": "python",
   "name": "python3"
  }
 },
 "nbformat": 4,
 "nbformat_minor": 4
}
