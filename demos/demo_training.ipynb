{
 "cells": [
  {
   "cell_type": "code",
   "execution_count": null,
   "metadata": {},
   "outputs": [],
   "source": [
    "import jax\n",
    "import fullstream.models as models\n",
    "from fullstream.cls import cls_maker\n",
    "import numpy as np\n",
    "import jax.experimental.stax as stax\n",
    "import jax.experimental.optimizers as optimizers\n",
    "import jax.random"
   ]
  },
  {
   "cell_type": "code",
   "execution_count": null,
   "metadata": {},
   "outputs": [],
   "source": [
    "init_random_params, predict = stax.serial(\n",
    "    stax.Dense(1024),\n",
    "    stax.Relu,\n",
    "    stax.Dense(1024),\n",
    "    stax.Relu,\n",
    "    stax.Dense(2),\n",
    "    stax.Softmax,\n",
    ")"
   ]
  },
  {
   "cell_type": "code",
   "execution_count": null,
   "metadata": {},
   "outputs": [],
   "source": [
    "def get_hists(network, s, b1, b2):\n",
    "    NMC = len(s)\n",
    "    LUMI = 10\n",
    "    sh, bh1, bh2 = (\n",
    "        predict(network, s).sum(axis=0) * 2 / NMC * LUMI,\n",
    "        predict(network, b1).sum(axis=0) * 10 / NMC * LUMI,\n",
    "        predict(network, b2).sum(axis=0) * 10 / NMC * LUMI,\n",
    "    )\n",
    "    b_mean = jax.numpy.mean(jax.numpy.asarray([bh1, bh2]), axis=0)\n",
    "    b_unc = jax.numpy.std(jax.numpy.asarray([bh1, bh2]), axis=0)\n",
    "    results = sh, b_mean, b_unc\n",
    "    return results\n",
    "\n",
    "\n",
    "def hist_maker():\n",
    "    NMC = 500\n",
    "    bkg1 = np.random.multivariate_normal([2, 2], [[1, 0], [0, 1]], size=(NMC,))\n",
    "    bkg2 = np.random.multivariate_normal([-1, -1], [[1, 0], [0, 1]], size=(NMC,))\n",
    "    sig = np.random.multivariate_normal([-1, 1], [[1, 0], [0, 1]], size=(NMC,))\n",
    "\n",
    "    def make(network):\n",
    "        return get_hists(network, sig, bkg1, bkg2)\n",
    "\n",
    "    make.bkg1 = bkg1\n",
    "    make.bkg2 = bkg2\n",
    "    make.sig = sig\n",
    "    return make\n",
    "\n",
    "\n",
    "def makeNN():\n",
    "    hm = hist_maker()\n",
    "\n",
    "    def nn_model_maker(network):\n",
    "        s, b, db = hm(network)\n",
    "        m = models.hepdata_like(s, b, db)\n",
    "        nompars = m.config.suggested_init()\n",
    "        bonlypars = jax.numpy.asarray([x for x in nompars])\n",
    "        bonlypars = jax.ops.index_update(bonlypars, m.config.poi_index, 0.0)\n",
    "        return m, bonlypars\n",
    "\n",
    "    nn_model_maker.hm = hm\n",
    "    return nn_model_maker"
   ]
  },
  {
   "cell_type": "code",
   "execution_count": null,
   "metadata": {},
   "outputs": [],
   "source": [
    "nnm = makeNN()\n",
    "loss = cls_maker(nnm, solver_kwargs=dict(pdf_transform=True))"
   ]
  },
  {
   "cell_type": "code",
   "execution_count": null,
   "metadata": {},
   "outputs": [
    {
     "name": "stderr",
     "output_type": "stream",
     "text": [
      "/home/phinate/envs/fullstream/lib/python3.7/site-packages/jax-0.1.58-py3.7.egg/jax/lib/xla_bridge.py:119: UserWarning: No GPU/TPU found, falling back to CPU.\n"
     ]
    },
    {
     "name": "stdout",
     "output_type": "stream",
     "text": [
      "exp_data: Traced<ConcreteArray([[ 49.39193781  50.60806219]\n",
      " [816.59817121 857.30565609]])>with<JVPTrace(level=1/0)>\n"
     ]
    },
    {
     "data": {
      "text/plain": [
       "(DeviceArray(0.06607294, dtype=float64),\n",
       " [(DeviceArray([[-0.00359211,  0.0047775 , -0.00193101, ..., -0.00464617,\n",
       "                  0.00064556, -0.00786265],\n",
       "                [-0.00261597,  0.00532947, -0.00385798, ..., -0.00579856,\n",
       "                  0.00089938, -0.00675454]], dtype=float32),\n",
       "   DeviceArray([ 0.00271544,  0.00101195,  0.00236113, ...,  0.00476447,\n",
       "                -0.00069442, -0.0029644 ], dtype=float32)),\n",
       "  (),\n",
       "  (DeviceArray([[-3.6563347e-06, -1.5017430e-04, -1.3271369e-04, ...,\n",
       "                 -6.1500748e-04,  3.7202462e-06, -1.9799042e-04],\n",
       "                [ 9.1210357e-05, -1.9967470e-06,  3.0784032e-04, ...,\n",
       "                  1.5375204e-04, -6.5156141e-06,  6.2916399e-05],\n",
       "                [ 2.0549714e-07, -1.0217778e-04, -3.6580081e-05, ...,\n",
       "                 -4.1675451e-04,  1.6296563e-06, -1.3139282e-04],\n",
       "                ...,\n",
       "                [-6.1797600e-06, -2.3483452e-04, -2.2108031e-04, ...,\n",
       "                 -9.6032617e-04,  6.0534462e-06, -3.1272162e-04],\n",
       "                [ 1.4378395e-07, -1.7590594e-04, -8.8914225e-05, ...,\n",
       "                 -7.1820850e-04,  3.2668088e-06, -2.2221821e-04],\n",
       "                [ 1.0881334e-04, -1.5972977e-06,  3.2010110e-04, ...,\n",
       "                  2.2219363e-04, -6.7226924e-06,  4.6579658e-05]],            dtype=float32),\n",
       "   DeviceArray([ 1.1397339e-03, -2.0281489e-03,  2.3337041e-03, ...,\n",
       "                -6.0656951e-03, -3.6439385e-05, -1.6761175e-03],            dtype=float32)),\n",
       "  (),\n",
       "  (DeviceArray([[-0.00088022,  0.00088022],\n",
       "                [ 0.00457616, -0.00457616],\n",
       "                [-0.00523959,  0.00523959],\n",
       "                ...,\n",
       "                [ 0.0040686 , -0.0040686 ],\n",
       "                [-0.00283216,  0.00283216],\n",
       "                [ 0.00075796, -0.00075796]], dtype=float32),\n",
       "   DeviceArray([ 0.00022251, -0.00022251], dtype=float32)),\n",
       "  ()])"
      ]
     },
     "execution_count": null,
     "metadata": {},
     "output_type": "execute_result"
    }
   ],
   "source": [
    "_, network = init_random_params(jax.random.PRNGKey(2), (-1, 2))\n",
    "jax.value_and_grad(loss)(network, 1.0)"
   ]
  },
  {
   "cell_type": "code",
   "execution_count": null,
   "metadata": {},
   "outputs": [],
   "source": [
    "def train_network(N):\n",
    "    cls_vals = []\n",
    "    opt_init, opt_update, opt_params = optimizers.adam(1e-3)\n",
    "    _, network = init_random_params(jax.random.PRNGKey(1), (-1, 2))\n",
    "    state = opt_init(network)\n",
    "    losses = []\n",
    "    for i in range(N):\n",
    "        network = opt_params(state)\n",
    "        value, grad = jax.value_and_grad(loss)(network, 1.0)\n",
    "        losses.append(value)\n",
    "        state = opt_update(i, grad, state)\n",
    "        metrics = {\"loss\": losses}\n",
    "        yield network, metrics"
   ]
  },
  {
   "cell_type": "code",
   "execution_count": null,
   "metadata": {},
   "outputs": [],
   "source": [
    "def plot(axarr, network, metrics, hm, maxN):\n",
    "    ax = axarr[0]\n",
    "    g = np.mgrid[-5:5:101j, -5:5:101j]\n",
    "    levels = np.linspace(0, 1, 21)\n",
    "    ax.contourf(\n",
    "        g[0],\n",
    "        g[1],\n",
    "        predict(network, np.moveaxis(g, 0, -1)).reshape(101, 101, 2)[:, :, 0],\n",
    "        levels=levels,\n",
    "        cmap=\"BrBG\",\n",
    "    )\n",
    "    ax.contour(\n",
    "        g[0],\n",
    "        g[1],\n",
    "        predict(network, np.moveaxis(g, 0, -1)).reshape(101, 101, 2)[:, :, 0],\n",
    "        colors=\"w\",\n",
    "        levels=levels,\n",
    "    )\n",
    "    ax.scatter(hm.sig[:, 0], hm.sig[:, 1], alpha=0.25, c=\"C9\", label=\"sig\")\n",
    "    ax.scatter(hm.bkg1[:, 0], hm.bkg1[:, 1], alpha=0.17, c=\"C1\", label=\"bkg1\")\n",
    "    ax.scatter(hm.bkg2[:, 0], hm.bkg2[:, 1], alpha=0.17, c=\"C1\", label=\"bkg2\")\n",
    "    ax.set_xlim(-5, 5)\n",
    "    ax.set_ylim(-5, 5)\n",
    "    ax.set_xlabel(\"x\")\n",
    "    ax.set_ylabel(\"y\")\n",
    "\n",
    "    ax = axarr[1]\n",
    "    ax.axhline(0.05, c=\"slategray\", linestyle=\"--\")\n",
    "    ax.plot(metrics[\"loss\"], c=\"steelblue\", linewidth=2.0)\n",
    "\n",
    "    ax.set_ylim(0, 0.6)\n",
    "    ax.set_xlim(0, maxN)\n",
    "    ax.set_xlabel(\"epoch\")\n",
    "    ax.set_ylabel(r\"$cl_s$\")\n",
    "\n",
    "    ax = axarr[2]\n",
    "    s, b, db = hm(network)\n",
    "    ax.bar([0, 1], b, color=\"C1\", label=\"bkg\")\n",
    "    ax.bar([0, 1], s, bottom=b, color=\"C9\", label=\"sig\")\n",
    "    ax.bar([0, 1], db, bottom=b - db / 2.0, alpha=0.4, color=\"black\", label=\"bkg error\")\n",
    "    ax.set_ylim(0, 100)\n",
    "    ax.set_ylabel(\"frequency\")\n",
    "    ax.set_xlabel(\"nn output\")"
   ]
  },
  {
   "cell_type": "code",
   "execution_count": null,
   "metadata": {},
   "outputs": [
    {
     "ename": "TypeError",
     "evalue": "'JaxprTracer' object cannot be interpreted as an integer",
     "output_type": "error",
     "traceback": [
      "\u001b[0;31m---------------------------------------------------------------------------\u001b[0m",
      "\u001b[0;31mTypeError\u001b[0m                                 Traceback (most recent call last)",
      "\u001b[0;32m<ipython-input-8-5faa412d9672>\u001b[0m in \u001b[0;36m<module>\u001b[0;34m\u001b[0m\n\u001b[1;32m     23\u001b[0m \u001b[0mcamera\u001b[0m \u001b[0;34m=\u001b[0m \u001b[0mCamera\u001b[0m\u001b[0;34m(\u001b[0m\u001b[0mfig\u001b[0m\u001b[0;34m)\u001b[0m\u001b[0;34m\u001b[0m\u001b[0;34m\u001b[0m\u001b[0m\n\u001b[1;32m     24\u001b[0m \u001b[0mmaxN\u001b[0m \u001b[0;34m=\u001b[0m \u001b[0;36m60\u001b[0m\u001b[0;34m\u001b[0m\u001b[0;34m\u001b[0m\u001b[0m\n\u001b[0;32m---> 25\u001b[0;31m \u001b[0;32mfor\u001b[0m \u001b[0mi\u001b[0m\u001b[0;34m,\u001b[0m \u001b[0;34m(\u001b[0m\u001b[0mnetwork\u001b[0m\u001b[0;34m,\u001b[0m \u001b[0mmetrics\u001b[0m\u001b[0;34m)\u001b[0m \u001b[0;32min\u001b[0m \u001b[0menumerate\u001b[0m\u001b[0;34m(\u001b[0m\u001b[0mtrain_network\u001b[0m\u001b[0;34m(\u001b[0m\u001b[0mmaxN\u001b[0m\u001b[0;34m)\u001b[0m\u001b[0;34m)\u001b[0m\u001b[0;34m:\u001b[0m\u001b[0;34m\u001b[0m\u001b[0;34m\u001b[0m\u001b[0m\n\u001b[0m\u001b[1;32m     26\u001b[0m     \u001b[0mprint\u001b[0m\u001b[0;34m(\u001b[0m\u001b[0;34mf\"epoch {i}:\"\u001b[0m\u001b[0;34m,\u001b[0m \u001b[0;34mf'CLs = {metrics[\"loss\"][-1]}'\u001b[0m\u001b[0;34m)\u001b[0m\u001b[0;34m\u001b[0m\u001b[0;34m\u001b[0m\u001b[0m\n\u001b[1;32m     27\u001b[0m     \u001b[0mplot\u001b[0m\u001b[0;34m(\u001b[0m\u001b[0maxarr\u001b[0m\u001b[0;34m,\u001b[0m \u001b[0mnetwork\u001b[0m\u001b[0;34m,\u001b[0m \u001b[0mmetrics\u001b[0m\u001b[0;34m,\u001b[0m \u001b[0mnnm\u001b[0m\u001b[0;34m.\u001b[0m\u001b[0mhm\u001b[0m\u001b[0;34m,\u001b[0m \u001b[0mmaxN\u001b[0m\u001b[0;34m=\u001b[0m\u001b[0mmaxN\u001b[0m\u001b[0;34m)\u001b[0m\u001b[0;34m\u001b[0m\u001b[0;34m\u001b[0m\u001b[0m\n",
      "\u001b[0;32m<ipython-input-6-da9e2f68770f>\u001b[0m in \u001b[0;36mtrain_network\u001b[0;34m(N)\u001b[0m\n\u001b[1;32m      6\u001b[0m     \u001b[0mstate\u001b[0m \u001b[0;34m=\u001b[0m \u001b[0mopt_init\u001b[0m\u001b[0;34m(\u001b[0m\u001b[0mnetwork\u001b[0m\u001b[0;34m)\u001b[0m\u001b[0;34m\u001b[0m\u001b[0;34m\u001b[0m\u001b[0m\n\u001b[1;32m      7\u001b[0m     \u001b[0mlosses\u001b[0m \u001b[0;34m=\u001b[0m \u001b[0;34m[\u001b[0m\u001b[0;34m]\u001b[0m\u001b[0;34m\u001b[0m\u001b[0;34m\u001b[0m\u001b[0m\n\u001b[0;32m----> 8\u001b[0;31m     \u001b[0;32mfor\u001b[0m \u001b[0mi\u001b[0m \u001b[0;32min\u001b[0m \u001b[0mrange\u001b[0m\u001b[0;34m(\u001b[0m\u001b[0mN\u001b[0m\u001b[0;34m)\u001b[0m\u001b[0;34m:\u001b[0m\u001b[0;34m\u001b[0m\u001b[0;34m\u001b[0m\u001b[0m\n\u001b[0m\u001b[1;32m      9\u001b[0m         \u001b[0mnetwork\u001b[0m \u001b[0;34m=\u001b[0m \u001b[0mopt_params\u001b[0m\u001b[0;34m(\u001b[0m\u001b[0mstate\u001b[0m\u001b[0;34m)\u001b[0m\u001b[0;34m\u001b[0m\u001b[0;34m\u001b[0m\u001b[0m\n\u001b[1;32m     10\u001b[0m         \u001b[0mvalue\u001b[0m\u001b[0;34m,\u001b[0m \u001b[0mgrad\u001b[0m \u001b[0;34m=\u001b[0m \u001b[0mjax\u001b[0m\u001b[0;34m.\u001b[0m\u001b[0mvalue_and_grad\u001b[0m\u001b[0;34m(\u001b[0m\u001b[0mloss\u001b[0m\u001b[0;34m)\u001b[0m\u001b[0;34m(\u001b[0m\u001b[0mnetwork\u001b[0m\u001b[0;34m,\u001b[0m \u001b[0;36m1.0\u001b[0m\u001b[0;34m)\u001b[0m\u001b[0;34m\u001b[0m\u001b[0;34m\u001b[0m\u001b[0m\n",
      "\u001b[0;31mTypeError\u001b[0m: 'JaxprTracer' object cannot be interpreted as an integer"
     ]
    },
    {
     "data": {
      "image/png": "[encoded data removed]",
      "text/plain": [
       "<Figure size 1080x360 with 3 Axes>"
      ]
     },
     "metadata": {
      "needs_background": "light"
     },
     "output_type": "display_data"
    }
   ],
   "source": [
    "import numpy as np\n",
    "from matplotlib import pyplot as plt\n",
    "from celluloid import Camera\n",
    "from IPython.display import HTML\n",
    "\n",
    "plt.rcParams.update(\n",
    "    {\n",
    "        \"axes.labelsize\": 13,\n",
    "        \"axes.linewidth\": 1.2,\n",
    "        \"xtick.labelsize\": 13,\n",
    "        \"ytick.labelsize\": 13,\n",
    "        \"figure.figsize\": [7.2, 3.0],\n",
    "        \"font.size\": 13,\n",
    "        \"xtick.major.size\": 4,\n",
    "        \"ytick.major.size\": 4,\n",
    "        \"legend.fontsize\": 11,\n",
    "    }\n",
    ")\n",
    "\n",
    "\n",
    "fig, axarr = plt.subplots(1, 3)\n",
    "fig.set_size_inches(15, 5)\n",
    "camera = Camera(fig)\n",
    "maxN = 60\n",
    "for i, (network, metrics) in enumerate(train_network(maxN)):\n",
    "    print(f\"epoch {i}:\", f'CLs = {metrics[\"loss\"][-1]}')\n",
    "    plot(axarr, network, metrics, nnm.hm, maxN=maxN)\n",
    "    plt.tight_layout()\n",
    "    camera.snap()\n",
    "    if i % 10 == 0:\n",
    "        camera.animate().save(\"animation.gif\", writer=\"imagemagick\", fps=8)\n",
    "        HTML(camera.animate().to_html5_video())\n",
    "camera.animate().save(\"animation.gif\", writer=\"imagemagick\", fps=8)"
   ]
  },
  {
   "cell_type": "code",
   "execution_count": null,
   "metadata": {},
   "outputs": [],
   "source": []
  },
  {
   "cell_type": "code",
   "execution_count": null,
   "metadata": {},
   "outputs": [],
   "source": []
  }
 ],
 "metadata": {
  "kernelspec": {
   "display_name": "Python 3",
   "language": "python",
   "name": "python3"
  }
 },
 "nbformat": 4,
 "nbformat_minor": 4
}
